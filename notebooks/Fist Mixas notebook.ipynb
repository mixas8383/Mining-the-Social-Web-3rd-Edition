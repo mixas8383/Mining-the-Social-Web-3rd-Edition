{
 "cells": [
  {
   "cell_type": "markdown",
   "metadata": {},
   "source": [
    "# Классификация в реальной жизни\n",
    "## Набор данных lris\n"
   ]
  },
  {
   "cell_type": "code",
   "execution_count": 30,
   "metadata": {},
   "outputs": [
    {
     "name": "stdout",
     "output_type": "stream",
     "text": [
      "600\n",
      "[5.1 4.9 4.7 4.6 5.  5.4 4.6 5.  4.4 4.9 5.4 4.8 4.8 4.3 5.8 5.7 5.4 5.1\n",
      " 5.7 5.1 5.4 5.1 4.6 5.1 4.8 5.  5.  5.2 5.2 4.7 4.8 5.4 5.2 5.5 4.9 5.\n",
      " 5.5 4.9 4.4 5.1 5.  4.5 4.4 5.  5.1 4.8 5.1 4.6 5.3 5. ]\n",
      "[7.  6.4 6.9 5.5 6.5 5.7 6.3 4.9 6.6 5.2 5.  5.9 6.  6.1 5.6 6.7 5.6 5.8\n",
      " 6.2 5.6 5.9 6.1 6.3 6.1 6.4 6.6 6.8 6.7 6.  5.7 5.5 5.5 5.8 6.  5.4 6.\n",
      " 6.7 6.3 5.6 5.5 5.5 6.1 5.8 5.  5.6 5.7 5.7 6.2 5.1 5.7]\n",
      "[6.3 5.8 7.1 6.3 6.5 7.6 4.9 7.3 6.7 7.2 6.5 6.4 6.8 5.7 5.8 6.4 6.5 7.7\n",
      " 7.7 6.  6.9 5.6 7.7 6.3 6.7 7.2 6.2 6.1 6.4 7.2 7.4 7.9 6.4 6.3 6.1 7.7\n",
      " 6.3 6.4 6.  6.9 6.7 6.9 5.8 6.8 6.7 6.7 6.3 6.5 6.2 5.9]\n"
     ]
    },
    {
     "data": {
      "image/png": "[encoded data removed]",
      "text/plain": [
       "<Figure size 432x288 with 1 Axes>"
      ]
     },
     "metadata": {
      "needs_background": "light"
     },
     "output_type": "display_data"
    }
   ],
   "source": [
    "from matplotlib import pyplot as plt\n",
    "import numpy as np\n",
    "\n",
    "from sklearn.datasets import load_iris\n",
    "data = load_iris()\n",
    "\n",
    "features = data.data\n",
    "features_names = data.feature_names\n",
    "target = data.target\n",
    "target_names = data.target_names\n",
    "print(features.size)\n",
    "for t in range(3):\n",
    "    if t == 0:\n",
    "        c = 'r'\n",
    "        marker = '*'\n",
    "    elif t == 1:\n",
    "        c = 'g'\n",
    "        marker = 'o'\n",
    "    elif t == 2:\n",
    "        c = 'b'\n",
    "        marker = 'x'\n",
    "    #print(target == t)\n",
    "    #print(type(target))\n",
    "    #print(features[target == t,0])\n",
    "    print(features[target == t,0])\n",
    "\n",
    "    plt.scatter(features[target == t,0],features[target == t,1], marker= marker,c = c)\n",
    "\n"
   ]
  },
  {
   "cell_type": "markdown",
   "metadata": {},
   "source": [
    "# построение первой модели классификации"
   ]
  },
  {
   "cell_type": "code",
   "execution_count": 31,
   "metadata": {},
   "outputs": [
    {
     "name": "stdout",
     "output_type": "stream",
     "text": [
      "Maximum of setosa: 1.9.\n",
      "Minimum of others: 3.0.\n",
      "600\n"
     ]
    }
   ],
   "source": [
    "#Используем прихотливое индексирование NumPy, чтобы получить массив строк\n",
    "\n",
    "labels = target_names[target]\n",
    "\n",
    "\n",
    "\n",
    "#Длина лепестка - признак в позиции 2\n",
    "plength = features[:, 2]\n",
    "\n",
    "#Строим массив булевых значений\n",
    "is_setosa = (labels == 'setosa')\n",
    "\n",
    "#Это важный шаг\n",
    "\n",
    "max_setosa = plength[is_setosa].max()\n",
    "min_non_setosa = plength[~is_setosa].min()\n",
    "\n",
    "print('Maximum of setosa: {0}.'.format(max_setosa))\n",
    "print( 'Minimum of others: {0}.'.format(min_non_setosa))\n",
    "\n",
    "print(features.size)\n",
    "\n"
   ]
  },
  {
   "cell_type": "code",
   "execution_count": 32,
   "metadata": {},
   "outputs": [
    {
     "name": "stdout",
     "output_type": "stream",
     "text": [
      "[False False False False False False False False False False False False\n",
      " False False False False False False False False False False False False\n",
      " False False False False False False False False False False False False\n",
      " False False False False False False False False False False False False\n",
      " False False  True  True  True  True  True  True  True  True  True  True\n",
      "  True  True  True  True  True  True  True  True  True  True  True  True\n",
      "  True  True  True  True  True  True  True  True  True  True  True  True\n",
      "  True  True  True  True  True  True  True  True  True  True  True  True\n",
      "  True  True  True  True]\n"
     ]
    }
   ],
   "source": [
    "\n",
    "featuresa = features[~is_setosa]\n",
    "labelsa = labels[~is_setosa]\n",
    "is_virginica = (labelsa == 'virginica')\n",
    "print(is_virginica)"
   ]
  },
  {
   "cell_type": "code",
   "execution_count": 42,
   "metadata": {},
   "outputs": [
    {
     "name": "stdout",
     "output_type": "stream",
     "text": [
      "(100, 4)\n",
      "[7.  6.4 6.9 5.5 6.5 5.7 6.3 4.9 6.6 5.2 5.  5.9 6.  6.1 5.6 6.7 5.6 5.8\n",
      " 6.2 5.6 5.9 6.1 6.3 6.1 6.4 6.6 6.8 6.7 6.  5.7 5.5 5.5 5.8 6.  5.4 6.\n",
      " 6.7 6.3 5.6 5.5 5.5 6.1 5.8 5.  5.6 5.7 5.7 6.2 5.1 5.7 6.3 5.8 7.1 6.3\n",
      " 6.5 7.6 4.9 7.3 6.7 7.2 6.5 6.4 6.8 5.7 5.8 6.4 6.5 7.7 7.7 6.  6.9 5.6\n",
      " 7.7 6.3 6.7 7.2 6.2 6.1 6.4 7.2 7.4 7.9 6.4 6.3 6.1 7.7 6.3 6.4 6.  6.9\n",
      " 6.7 6.9 5.8 6.8 6.7 6.7 6.3 6.5 6.2 5.9]\n",
      "[3.2 3.2 3.1 2.3 2.8 2.8 3.3 2.4 2.9 2.7 2.  3.  2.2 2.9 2.9 3.1 3.  2.7\n",
      " 2.2 2.5 3.2 2.8 2.5 2.8 2.9 3.  2.8 3.  2.9 2.6 2.4 2.4 2.7 2.7 3.  3.4\n",
      " 3.1 2.3 3.  2.5 2.6 3.  2.6 2.3 2.7 3.  2.9 2.9 2.5 2.8 3.3 2.7 3.  2.9\n",
      " 3.  3.  2.5 2.9 2.5 3.6 3.2 2.7 3.  2.5 2.8 3.2 3.  3.8 2.6 2.2 3.2 2.8\n",
      " 2.8 2.7 3.3 3.2 2.8 3.  2.8 3.  2.8 3.8 2.8 2.8 2.6 3.  3.4 3.1 3.  3.1\n",
      " 3.1 3.1 2.7 3.2 3.3 3.  2.5 3.  3.4 3. ]\n",
      "[4.7 4.5 4.9 4.  4.6 4.5 4.7 3.3 4.6 3.9 3.5 4.2 4.  4.7 3.6 4.4 4.5 4.1\n",
      " 4.5 3.9 4.8 4.  4.9 4.7 4.3 4.4 4.8 5.  4.5 3.5 3.8 3.7 3.9 5.1 4.5 4.5\n",
      " 4.7 4.4 4.1 4.  4.4 4.6 4.  3.3 4.2 4.2 4.2 4.3 3.  4.1 6.  5.1 5.9 5.6\n",
      " 5.8 6.6 4.5 6.3 5.8 6.1 5.1 5.3 5.5 5.  5.1 5.3 5.5 6.7 6.9 5.  5.7 4.9\n",
      " 6.7 4.9 5.7 6.  4.8 4.9 5.6 5.8 6.1 6.4 5.6 5.1 5.6 6.1 5.6 5.5 4.8 5.4\n",
      " 5.6 5.1 5.1 5.9 5.7 5.2 5.  5.2 5.4 5.1]\n",
      "[1.4 1.5 1.5 1.3 1.5 1.3 1.6 1.  1.3 1.4 1.  1.5 1.  1.4 1.3 1.4 1.5 1.\n",
      " 1.5 1.1 1.8 1.3 1.5 1.2 1.3 1.4 1.4 1.7 1.5 1.  1.1 1.  1.2 1.6 1.5 1.6\n",
      " 1.5 1.3 1.3 1.3 1.2 1.4 1.2 1.  1.3 1.2 1.3 1.3 1.1 1.3 2.5 1.9 2.1 1.8\n",
      " 2.2 2.1 1.7 1.8 1.8 2.5 2.  1.9 2.1 2.  2.4 2.3 1.8 2.2 2.3 1.5 2.3 2.\n",
      " 2.  1.8 2.1 1.8 1.8 1.8 2.1 1.6 1.9 2.  2.2 1.5 1.4 2.3 2.4 1.8 1.8 2.1\n",
      " 2.4 2.3 1.9 2.3 2.5 2.3 1.9 2.  2.3 1.8]\n"
     ]
    }
   ],
   "source": [
    "best_acc = -1.0\n",
    "\n",
    "print(featuresa.shape)\n",
    "for fi in range(featuresa.shape[1]):\n",
    "    thresh = featuresa[:,fi]\n",
    "    print(featuresa[:,fi])\n",
    "    for t in thresh:\n",
    "        feature_i = featuresa[:, fi]\n",
    "        pred = (feature_i>t)\n",
    "        acc = (pred == is_virginica).mean()\n",
    "        rev_acc = (pred == ~is_virginica).mean()\n",
    "        \n",
    "        if rev_acc > acc:\n",
    "            reverse = True\n",
    "            acc = rev_acc\n",
    "        else:\n",
    "            reverse = False\n",
    "        if acc > best_acc:\n",
    "            best_acc = acc\n",
    "            best_fi = fi\n",
    "            best_t = t\n",
    "            best_reverse = reverse\n",
    "            \n",
    "        \n",
    "\n",
    "\n"
   ]
  },
  {
   "cell_type": "code",
   "execution_count": 43,
   "metadata": {},
   "outputs": [],
   "source": [
    "def is_virginica_test(fi, t, reverse, example):\n",
    "    test = example[fi] > t\n",
    "    if reverse:\n",
    "        test = not test\n",
    "    return test\n"
   ]
  },
  {
   "cell_type": "code",
   "execution_count": null,
   "metadata": {},
   "outputs": [],
   "source": []
  }
 ],
 "metadata": {
  "kernelspec": {
   "display_name": "Python 3",
   "language": "python",
   "name": "python3"
  },
  "language_info": {
   "codemirror_mode": {
    "name": "ipython",
    "version": 3
   },
   "file_extension": ".py",
   "mimetype": "text/x-python",
   "name": "python",
   "nbconvert_exporter": "python",
   "pygments_lexer": "ipython3",
   "version": "3.6.8"
  }
 },
 "nbformat": 4,
 "nbformat_minor": 2
}
