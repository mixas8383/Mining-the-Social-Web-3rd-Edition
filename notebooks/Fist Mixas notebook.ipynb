{
 "cells": [
  {
   "cell_type": "markdown",
   "metadata": {},
   "source": [
    "# Классификация.в реальной жизни\n",
    "## Набор данных lris\n"
   ]
  },
  {
   "cell_type": "code",
   "execution_count": 30,
   "metadata": {},
   "outputs": [
    {
     "data": {
      "image/png": "[encoded data removed]",
      "text/plain": [
       "<Figure size 432x288 with 1 Axes>"
      ]
     },
     "metadata": {
      "needs_background": "light"
     },
     "output_type": "display_data"
    }
   ],
   "source": [
    "from matplotlib import pyplot as plt\n",
    "import numpy as np\n",
    "\n",
    "from sklearn.datasets import load_iris\n",
    "data = load_iris()\n",
    "\n",
    "features = data.data\n",
    "features_names = data.feature_names\n",
    "target = data.target\n",
    "target_names = data.target_names\n",
    "#print(features)\n",
    "for t in range(3):\n",
    "    if t == 0:\n",
    "        c = 'r'\n",
    "        marker = '>'\n",
    "    elif t == 1:\n",
    "        c = 'g'\n",
    "        marker = 'o'\n",
    "    elif t == 2:\n",
    "        c = 'g'\n",
    "        marker = 'x'\n",
    "    #print(target == t)\n",
    "    #print(type(target))\n",
    "    #print(features[target == t,0])\n",
    "    \n",
    "    plt.scatter(features[target == t,0],features[target == t,1], marker= marker,c = c)\n",
    "\n"
   ]
  },
  {
   "cell_type": "markdown",
   "metadata": {},
   "source": [
    "# построение первой модели классификации"
   ]
  },
  {
   "cell_type": "code",
   "execution_count": 43,
   "metadata": {},
   "outputs": [
    {
     "name": "stdout",
     "output_type": "stream",
     "text": [
      "Maximum of setosa: 1.9.\n",
      "Minimum of others: 3.0.\n"
     ]
    }
   ],
   "source": [
    "#Используем прихотливое индексирование NumPy, чтобы получить массив строк\n",
    "\n",
    "labels = target_names[target]\n",
    "\n",
    "#Длина лепестка - признак в позиции 2\n",
    "plength = features[:, 2]\n",
    "\n",
    "#Строим массив булевых значений\n",
    "is_setosa = (labels == 'setosa')\n",
    "\n",
    "#Это важный шаг\n",
    "\n",
    "max_setosa = plength[is_setosa].max()\n",
    "min_non_setosa = plength[~is_setosa].min()\n",
    "\n",
    "print('Maximum of setosa: {0}.'.format(max_setosa))\n",
    "print( 'Minimum of others: {0}.'.format(min_non_setosa))\n",
    "\n",
    "\n"
   ]
  },
  {
   "cell_type": "code",
   "execution_count": null,
   "metadata": {},
   "outputs": [],
   "source": []
  }
 ],
 "metadata": {
  "kernelspec": {
   "display_name": "Python 3",
   "language": "python",
   "name": "python3"
  },
  "language_info": {
   "codemirror_mode": {
    "name": "ipython",
    "version": 3
   },
   "file_extension": ".py",
   "mimetype": "text/x-python",
   "name": "python",
   "nbconvert_exporter": "python",
   "pygments_lexer": "ipython3",
   "version": "3.6.8"
  }
 },
 "nbformat": 4,
 "nbformat_minor": 2
}
