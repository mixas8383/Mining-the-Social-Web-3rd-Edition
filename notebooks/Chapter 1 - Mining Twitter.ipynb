{
 "cells": [
  {
   "cell_type": "markdown",
   "metadata": {},
   "source": [
    "# Mining Twitter\n",
    "\n",
    "Twitter implements OAuth 1.0A as its standard authentication mechanism, and in order to use it to make requests to Twitter's API, you'll need to go to https://developer.twitter.com/en/apps and create a sample application. It is possible that Twitter no longer supports sandboxed applications and you may need to submit a request for permission to develop an app on Twitter.\n",
    "\n",
    "There are four primary identifiers you'll need to note for an OAuth 1.0A workflow: consumer key, consumer secret, access token, and access token secret. Note that you will need an ordinary Twitter account in order to login, create an app, and get these credentials.\n",
    "\n",
    "<img src=\"resources/ch01-twitter/images/Twitter-AppCredentials.png\" width=\"600px\">"
   ]
  },
  {
   "cell_type": "markdown",
   "metadata": {},
   "source": [
    "If you are running this code on Binder or from the Docker container, you should just be able to execute the code in this notebook without any worries whatsoever about installing dependencies. If you are running the code from your own development envioronment, however, be advised that these examples in this chapter take advantage of a Python package called [twitter](https://github.com/sixohsix/twitter) to make API calls. You can install this package in a terminal with [pip](https://pypi.python.org/pypi/pip) with the command `pip install twitter`, preferably from within a [Python virtual environment](https://pypi.python.org/pypi/virtualenv). "
   ]
  },
  {
   "cell_type": "markdown",
   "metadata": {},
   "source": [
    "Once installed, you should be able to open up a Python interpreter (or better yet, your [IPython](http://ipython.org/) interpreter) and get rolling."
   ]
  },
  {
   "cell_type": "markdown",
   "metadata": {},
   "source": [
    "## Authorizing an application to access Twitter account data"
   ]
  },
  {
   "cell_type": "code",
   "execution_count": 3,
   "metadata": {},
   "outputs": [
    {
     "name": "stdout",
     "output_type": "stream",
     "text": [
      "<twitter.api.Twitter object at 0x7f93b8af1588>\n"
     ]
    }
   ],
   "source": [
    "import twitter\n",
    "import os\n",
    "\n",
    "# settings.py\n",
    "from os.path import join, dirname\n",
    "from dotenv import load_dotenv\n",
    "load_dotenv('./.env')\n",
    "\n",
    "\n",
    "# Create .env file path.\n",
    "#dotenv_path = join(dirname(__file__), '.env')\n",
    " \n",
    "# Load file from the path.\n",
    "#load_dotenv(dotenv_path)\n",
    "\n",
    "# Go to https://developer.twitter.com/en/apps to create an app and get values\n",
    "# for these credentials, which you'll need to provide in place of these\n",
    "# empty string values that are defined as placeholders.\n",
    "# See https://developer.twitter.com/en/docs/basics/authentication/overview/oauth\n",
    "# for more information on Twitter's OAuth implementation.\n",
    "\n",
    "CONSUMER_KEY = os.getenv('TWITTER_CONSUMER_KEY')\n",
    "CONSUMER_SECRET = os.getenv('TWITTER_CONSUMER_SECRET')\n",
    "OAUTH_TOKEN = os.getenv('TWITTER_OAUTH_TOKEN')\n",
    "OAUTH_TOKEN_SECRET = os.getenv('TWITTER_OAUTH_TOKEN_SECRET')\n",
    "\n",
    "auth = twitter.oauth.OAuth(OAUTH_TOKEN, OAUTH_TOKEN_SECRET,\n",
    "                           CONSUMER_KEY, CONSUMER_SECRET)\n",
    "\n",
    "twitter_api = twitter.Twitter(auth=auth)\n",
    "\n",
    "# Nothing to see by displaying twitter_api except that it's now a\n",
    "# defined variable\n",
    "\n",
    "print(twitter_api)"
   ]
  },
  {
   "cell_type": "markdown",
   "metadata": {},
   "source": [
    "## Retrieving trends"
   ]
  },
  {
   "cell_type": "code",
   "execution_count": 4,
   "metadata": {},
   "outputs": [
    {
     "name": "stdout",
     "output_type": "stream",
     "text": [
      "[{'trends': [{'name': '#NeverForget', 'url': 'http://twitter.com/search?q=%23NeverForget', 'promoted_content': None, 'query': '%23NeverForget', 'tweet_volume': 109556}, {'name': '이숟갈', 'url': 'http://twitter.com/search?q=%EC%9D%B4%EC%88%9F%EA%B0%88', 'promoted_content': None, 'query': '%EC%9D%B4%EC%88%9F%EA%B0%88', 'tweet_volume': None}, {'name': '#Diada2019', 'url': 'http://twitter.com/search?q=%23Diada2019', 'promoted_content': None, 'query': '%23Diada2019', 'tweet_volume': 24832}, {'name': '#あなたの余命はどのくらいなのか', 'url': 'http://twitter.com/search?q=%23%E3%81%82%E3%81%AA%E3%81%9F%E3%81%AE%E4%BD%99%E5%91%BD%E3%81%AF%E3%81%A9%E3%81%AE%E3%81%8F%E3%82%89%E3%81%84%E3%81%AA%E3%81%AE%E3%81%8B', 'promoted_content': None, 'query': '%23%E3%81%82%E3%81%AA%E3%81%9F%E3%81%AE%E4%BD%99%E5%91%BD%E3%81%AF%E3%81%A9%E3%81%AE%E3%81%8F%E3%82%89%E3%81%84%E3%81%AA%E3%81%AE%E3%81%8B', 'tweet_volume': None}, {'name': 'クレイジージャーニー', 'url': 'http://twitter.com/search?q=%E3%82%AF%E3%83%AC%E3%82%A4%E3%82%B8%E3%83%BC%E3%82%B8%E3%83%A3%E3%83%BC%E3%83%8B%E3%83%BC', 'promoted_content': None, 'query': '%E3%82%AF%E3%83%AC%E3%82%A4%E3%82%B8%E3%83%BC%E3%82%B8%E3%83%A3%E3%83%BC%E3%83%8B%E3%83%BC', 'tweet_volume': 15039}, {'name': 'ゲリラ豪雨', 'url': 'http://twitter.com/search?q=%E3%82%B2%E3%83%AA%E3%83%A9%E8%B1%AA%E9%9B%A8', 'promoted_content': None, 'query': '%E3%82%B2%E3%83%AA%E3%83%A9%E8%B1%AA%E9%9B%A8', 'tweet_volume': 16966}, {'name': '이스카', 'url': 'http://twitter.com/search?q=%EC%9D%B4%EC%8A%A4%EC%B9%B4', 'promoted_content': None, 'query': '%EC%9D%B4%EC%8A%A4%EC%B9%B4', 'tweet_volume': None}, {'name': '질서선', 'url': 'http://twitter.com/search?q=%EC%A7%88%EC%84%9C%EC%84%A0', 'promoted_content': None, 'query': '%EC%A7%88%EC%84%9C%EC%84%A0', 'tweet_volume': None}, {'name': '#TNTUltimateResbak', 'url': 'http://twitter.com/search?q=%23TNTUltimateResbak', 'promoted_content': None, 'query': '%23TNTUltimateResbak', 'tweet_volume': 13544}, {'name': '#AnalarDestanYazıyor', 'url': 'http://twitter.com/search?q=%23AnalarDestanYaz%C4%B1yor', 'promoted_content': None, 'query': '%23AnalarDestanYaz%C4%B1yor', 'tweet_volume': 16466}, {'name': 'KOÇ Divan', 'url': 'http://twitter.com/search?q=%22KO%C3%87+Divan%22', 'promoted_content': None, 'query': '%22KO%C3%87+Divan%22', 'tweet_volume': None}, {'name': 'Happy Onam', 'url': 'http://twitter.com/search?q=%22Happy+Onam%22', 'promoted_content': None, 'query': '%22Happy+Onam%22', 'tweet_volume': 56445}, {'name': 'Mehmet Ekici', 'url': 'http://twitter.com/search?q=%22Mehmet+Ekici%22', 'promoted_content': None, 'query': '%22Mehmet+Ekici%22', 'tweet_volume': None}, {'name': 'カミナリ', 'url': 'http://twitter.com/search?q=%E3%82%AB%E3%83%9F%E3%83%8A%E3%83%AA', 'promoted_content': None, 'query': '%E3%82%AB%E3%83%9F%E3%83%8A%E3%83%AA', 'tweet_volume': 29811}, {'name': 'Fireman Sam', 'url': 'http://twitter.com/search?q=%22Fireman+Sam%22', 'promoted_content': None, 'query': '%22Fireman+Sam%22', 'tweet_volume': None}, {'name': 'Ali Palabıyık', 'url': 'http://twitter.com/search?q=%22Ali+Palab%C4%B1y%C4%B1k%22', 'promoted_content': None, 'query': '%22Ali+Palab%C4%B1y%C4%B1k%22', 'tweet_volume': None}, {'name': '雷と雨', 'url': 'http://twitter.com/search?q=%E9%9B%B7%E3%81%A8%E9%9B%A8', 'promoted_content': None, 'query': '%E9%9B%B7%E3%81%A8%E9%9B%A8', 'tweet_volume': 25195}, {'name': 'Visca Catalunya', 'url': 'http://twitter.com/search?q=%22Visca+Catalunya%22', 'promoted_content': None, 'query': '%22Visca+Catalunya%22', 'tweet_volume': None}, {'name': 'Peru', 'url': 'http://twitter.com/search?q=Peru', 'promoted_content': None, 'query': 'Peru', 'tweet_volume': 93788}, {'name': 'Arda Turan', 'url': 'http://twitter.com/search?q=%22Arda+Turan%22', 'promoted_content': None, 'query': '%22Arda+Turan%22', 'tweet_volume': None}, {'name': '조기퇴근', 'url': 'http://twitter.com/search?q=%EC%A1%B0%EA%B8%B0%ED%87%B4%EA%B7%BC', 'promoted_content': None, 'query': '%EC%A1%B0%EA%B8%B0%ED%87%B4%EA%B7%BC', 'tweet_volume': None}, {'name': 'Tom Watson', 'url': 'http://twitter.com/search?q=%22Tom+Watson%22', 'promoted_content': None, 'query': '%22Tom+Watson%22', 'tweet_volume': 22047}, {'name': '雷の音', 'url': 'http://twitter.com/search?q=%E9%9B%B7%E3%81%AE%E9%9F%B3', 'promoted_content': None, 'query': '%E9%9B%B7%E3%81%AE%E9%9F%B3', 'tweet_volume': 13566}, {'name': '名城線', 'url': 'http://twitter.com/search?q=%E5%90%8D%E5%9F%8E%E7%B7%9A', 'promoted_content': None, 'query': '%E5%90%8D%E5%9F%8E%E7%B7%9A', 'tweet_volume': None}, {'name': '#11settembre', 'url': 'http://twitter.com/search?q=%2311settembre', 'promoted_content': None, 'query': '%2311settembre', 'tweet_volume': 10252}, {'name': '#WednesdayThoughts', 'url': 'http://twitter.com/search?q=%23WednesdayThoughts', 'promoted_content': None, 'query': '%23WednesdayThoughts', 'tweet_volume': 14505}, {'name': '#PEPTSAVENIGERIA', 'url': 'http://twitter.com/search?q=%23PEPTSAVENIGERIA', 'promoted_content': None, 'query': '%23PEPTSAVENIGERIA', 'tweet_volume': None}, {'name': '#国内550万アークス突破', 'url': 'http://twitter.com/search?q=%23%E5%9B%BD%E5%86%85550%E4%B8%87%E3%82%A2%E3%83%BC%E3%82%AF%E3%82%B9%E7%AA%81%E7%A0%B4', 'promoted_content': None, 'query': '%23%E5%9B%BD%E5%86%85550%E4%B8%87%E3%82%A2%E3%83%BC%E3%82%AF%E3%82%B9%E7%AA%81%E7%A0%B4', 'tweet_volume': None}, {'name': '#çarşamba', 'url': 'http://twitter.com/search?q=%23%C3%A7ar%C5%9Famba', 'promoted_content': None, 'query': '%23%C3%A7ar%C5%9Famba', 'tweet_volume': 15651}, {'name': '#اسهل_وصفه_للسعاده', 'url': 'http://twitter.com/search?q=%23%D8%A7%D8%B3%D9%87%D9%84_%D9%88%D8%B5%D9%81%D9%87_%D9%84%D9%84%D8%B3%D8%B9%D8%A7%D8%AF%D9%87', 'promoted_content': None, 'query': '%23%D8%A7%D8%B3%D9%87%D9%84_%D9%88%D8%B5%D9%81%D9%87_%D9%84%D9%84%D8%B3%D8%B9%D8%A7%D8%AF%D9%87', 'tweet_volume': 25513}, {'name': '#OrangKayaGaTau', 'url': 'http://twitter.com/search?q=%23OrangKayaGaTau', 'promoted_content': None, 'query': '%23OrangKayaGaTau', 'tweet_volume': None}, {'name': '#Ngantuk', 'url': 'http://twitter.com/search?q=%23Ngantuk', 'promoted_content': None, 'query': '%23Ngantuk', 'tweet_volume': None}, {'name': '#Camimiistiyorum', 'url': 'http://twitter.com/search?q=%23Camimiistiyorum', 'promoted_content': None, 'query': '%23Camimiistiyorum', 'tweet_volume': 22305}, {'name': '#자캐의_눈색을_정한_이유', 'url': 'http://twitter.com/search?q=%23%EC%9E%90%EC%BA%90%EC%9D%98_%EB%88%88%EC%83%89%EC%9D%84_%EC%A0%95%ED%95%9C_%EC%9D%B4%EC%9C%A0', 'promoted_content': None, 'query': '%23%EC%9E%90%EC%BA%90%EC%9D%98_%EB%88%88%EC%83%89%EC%9D%84_%EC%A0%95%ED%95%9C_%EC%9D%B4%EC%9C%A0', 'tweet_volume': None}, {'name': '#あなたの良いところランキング', 'url': 'http://twitter.com/search?q=%23%E3%81%82%E3%81%AA%E3%81%9F%E3%81%AE%E8%89%AF%E3%81%84%E3%81%A8%E3%81%93%E3%82%8D%E3%83%A9%E3%83%B3%E3%82%AD%E3%83%B3%E3%82%B0', 'promoted_content': None, 'query': '%23%E3%81%82%E3%81%AA%E3%81%9F%E3%81%AE%E8%89%AF%E3%81%84%E3%81%A8%E3%81%93%E3%82%8D%E3%83%A9%E3%83%B3%E3%82%AD%E3%83%B3%E3%82%B0', 'tweet_volume': None}, {'name': '#NigeriaNexus2', 'url': 'http://twitter.com/search?q=%23NigeriaNexus2', 'promoted_content': None, 'query': '%23NigeriaNexus2', 'tweet_volume': None}, {'name': '#الايفون_الجديد', 'url': 'http://twitter.com/search?q=%23%D8%A7%D9%84%D8%A7%D9%8A%D9%81%D9%88%D9%86_%D8%A7%D9%84%D8%AC%D8%AF%D9%8A%D8%AF', 'promoted_content': None, 'query': '%23%D8%A7%D9%84%D8%A7%D9%8A%D9%81%D9%88%D9%86_%D8%A7%D9%84%D8%AC%D8%AF%D9%8A%D8%AF', 'tweet_volume': 18921}, {'name': '#الخروف_النسوي', 'url': 'http://twitter.com/search?q=%23%D8%A7%D9%84%D8%AE%D8%B1%D9%88%D9%81_%D8%A7%D9%84%D9%86%D8%B3%D9%88%D9%8A', 'promoted_content': None, 'query': '%23%D8%A7%D9%84%D8%AE%D8%B1%D9%88%D9%81_%D8%A7%D9%84%D9%86%D8%B3%D9%88%D9%8A', 'tweet_volume': None}, {'name': '#MemleketinDüzelmesiİçin', 'url': 'http://twitter.com/search?q=%23MemleketinD%C3%BCzelmesi%C4%B0%C3%A7in', 'promoted_content': None, 'query': '%23MemleketinD%C3%BCzelmesi%C4%B0%C3%A7in', 'tweet_volume': None}, {'name': '#carsamba', 'url': 'http://twitter.com/search?q=%23carsamba', 'promoted_content': None, 'query': '%23carsamba', 'tweet_volume': 15651}, {'name': '#FelizMiércoles', 'url': 'http://twitter.com/search?q=%23FelizMi%C3%A9rcoles', 'promoted_content': None, 'query': '%23FelizMi%C3%A9rcoles', 'tweet_volume': 10343}, {'name': '#kenakalankudisekolah', 'url': 'http://twitter.com/search?q=%23kenakalankudisekolah', 'promoted_content': None, 'query': '%23kenakalankudisekolah', 'tweet_volume': None}, {'name': '#11Eylül', 'url': 'http://twitter.com/search?q=%2311Eyl%C3%BCl', 'promoted_content': None, 'query': '%2311Eyl%C3%BCl', 'tweet_volume': None}, {'name': '#OurPreciousKAI', 'url': 'http://twitter.com/search?q=%23OurPreciousKAI', 'promoted_content': None, 'query': '%23OurPreciousKAI', 'tweet_volume': None}, {'name': '#DarbarSecondLook', 'url': 'http://twitter.com/search?q=%23DarbarSecondLook', 'promoted_content': None, 'query': '%23DarbarSecondLook', 'tweet_volume': 31168}, {'name': '#تجربه_صافرات_الانذار', 'url': 'http://twitter.com/search?q=%23%D8%AA%D8%AC%D8%B1%D8%A8%D9%87_%D8%B5%D8%A7%D9%81%D8%B1%D8%A7%D8%AA_%D8%A7%D9%84%D8%A7%D9%86%D8%B0%D8%A7%D8%B1', 'promoted_content': None, 'query': '%23%D8%AA%D8%AC%D8%B1%D8%A8%D9%87_%D8%B5%D8%A7%D9%81%D8%B1%D8%A7%D8%AA_%D8%A7%D9%84%D8%A7%D9%86%D8%B0%D8%A7%D8%B1', 'tweet_volume': None}, {'name': '#100DaystoDabangg3', 'url': 'http://twitter.com/search?q=%23100DaystoDabangg3', 'promoted_content': None, 'query': '%23100DaystoDabangg3', 'tweet_volume': 37811}, {'name': '#انتقال_عمر_الهشبل', 'url': 'http://twitter.com/search?q=%23%D8%A7%D9%86%D8%AA%D9%82%D8%A7%D9%84_%D8%B9%D9%85%D8%B1_%D8%A7%D9%84%D9%87%D8%B4%D8%A8%D9%84', 'promoted_content': None, 'query': '%23%D8%A7%D9%86%D8%AA%D9%82%D8%A7%D9%84_%D8%B9%D9%85%D8%B1_%D8%A7%D9%84%D9%87%D8%B4%D8%A8%D9%84', 'tweet_volume': None}, {'name': '#crecfoundationgiveaway', 'url': 'http://twitter.com/search?q=%23crecfoundationgiveaway', 'promoted_content': None, 'query': '%23crecfoundationgiveaway', 'tweet_volume': None}, {'name': '#BoycottMillennials', 'url': 'http://twitter.com/search?q=%23BoycottMillennials', 'promoted_content': None, 'query': '%23BoycottMillennials', 'tweet_volume': 14117}], 'as_of': '2019-09-11T09:48:53Z', 'created_at': '2019-09-11T09:43:25Z', 'locations': [{'name': 'Worldwide', 'woeid': 1}]}]\n",
      "\n",
      "[{'trends': [{'name': '#NeverForget', 'url': 'http://twitter.com/search?q=%23NeverForget', 'promoted_content': None, 'query': '%23NeverForget', 'tweet_volume': 109556}, {'name': '#911Anniversary', 'url': 'http://twitter.com/search?q=%23911Anniversary', 'promoted_content': None, 'query': '%23911Anniversary', 'tweet_volume': 14703}, {'name': '#funnyvotevalleyfolk', 'url': 'http://twitter.com/search?q=%23funnyvotevalleyfolk', 'promoted_content': None, 'query': '%23funnyvotevalleyfolk', 'tweet_volume': 34662}, {'name': 'Sioux Falls', 'url': 'http://twitter.com/search?q=%22Sioux+Falls%22', 'promoted_content': None, 'query': '%22Sioux+Falls%22', 'tweet_volume': None}, {'name': 'Cishek', 'url': 'http://twitter.com/search?q=Cishek', 'promoted_content': None, 'query': 'Cishek', 'tweet_volume': None}, {'name': '#WednesdayThoughts', 'url': 'http://twitter.com/search?q=%23WednesdayThoughts', 'promoted_content': None, 'query': '%23WednesdayThoughts', 'tweet_volume': 14505}, {'name': 'Patch Notes', 'url': 'http://twitter.com/search?q=%22Patch+Notes%22', 'promoted_content': None, 'query': '%22Patch+Notes%22', 'tweet_volume': None}, {'name': '#bfc530', 'url': 'http://twitter.com/search?q=%23bfc530', 'promoted_content': None, 'query': '%23bfc530', 'tweet_volume': None}, {'name': 'Greasy Grove', 'url': 'http://twitter.com/search?q=%22Greasy+Grove%22', 'promoted_content': None, 'query': '%22Greasy+Grove%22', 'tweet_volume': None}, {'name': 'Ochoa', 'url': 'http://twitter.com/search?q=Ochoa', 'promoted_content': None, 'query': 'Ochoa', 'tweet_volume': 19552}, {'name': 'We Remember', 'url': 'http://twitter.com/search?q=%22We+Remember%22', 'promoted_content': None, 'query': '%22We+Remember%22', 'tweet_volume': 11515}, {'name': 'CB Bucknor', 'url': 'http://twitter.com/search?q=%22CB+Bucknor%22', 'promoted_content': None, 'query': '%22CB+Bucknor%22', 'tweet_volume': None}, {'name': 'Flight 93', 'url': 'http://twitter.com/search?q=%22Flight+93%22', 'promoted_content': None, 'query': '%22Flight+93%22', 'tweet_volume': None}, {'name': 'Moisty', 'url': 'http://twitter.com/search?q=Moisty', 'promoted_content': None, 'query': 'Moisty', 'tweet_volume': None}, {'name': 'Atiku', 'url': 'http://twitter.com/search?q=Atiku', 'promoted_content': None, 'query': 'Atiku', 'tweet_volume': 31208}, {'name': 'Kiya', 'url': 'http://twitter.com/search?q=Kiya', 'promoted_content': None, 'query': 'Kiya', 'tweet_volume': 14417}, {'name': 'The Valleyfolk', 'url': 'http://twitter.com/search?q=%22The+Valleyfolk%22', 'promoted_content': None, 'query': '%22The+Valleyfolk%22', 'tweet_volume': None}, {'name': 'Happy Onam', 'url': 'http://twitter.com/search?q=%22Happy+Onam%22', 'promoted_content': None, 'query': '%22Happy+Onam%22', 'tweet_volume': 56445}, {'name': 'Sam Davis', 'url': 'http://twitter.com/search?q=%22Sam+Davis%22', 'promoted_content': None, 'query': '%22Sam+Davis%22', 'tweet_volume': None}, {'name': 'faitelson', 'url': 'http://twitter.com/search?q=faitelson', 'promoted_content': None, 'query': 'faitelson', 'tweet_volume': 21575}, {'name': 'Buff Froste', 'url': 'http://twitter.com/search?q=%22Buff+Froste%22', 'promoted_content': None, 'query': '%22Buff+Froste%22', 'tweet_volume': None}, {'name': 'Crick', 'url': 'http://twitter.com/search?q=Crick', 'promoted_content': None, 'query': 'Crick', 'tweet_volume': None}, {'name': 'California Senate', 'url': 'http://twitter.com/search?q=%22California+Senate%22', 'promoted_content': None, 'query': '%22California+Senate%22', 'tweet_volume': None}, {'name': 'Shanksville', 'url': 'http://twitter.com/search?q=Shanksville', 'promoted_content': None, 'query': 'Shanksville', 'tweet_volume': None}, {'name': 'THE GUEST', 'url': 'http://twitter.com/search?q=%22THE+GUEST%22', 'promoted_content': None, 'query': '%22THE+GUEST%22', 'tweet_volume': None}, {'name': '#PEPTSAVENIGERIA', 'url': 'http://twitter.com/search?q=%23PEPTSAVENIGERIA', 'promoted_content': None, 'query': '%23PEPTSAVENIGERIA', 'tweet_volume': None}, {'name': '#CFSummit', 'url': 'http://twitter.com/search?q=%23CFSummit', 'promoted_content': None, 'query': '%23CFSummit', 'tweet_volume': None}, {'name': '#mythicalbeastissues', 'url': 'http://twitter.com/search?q=%23mythicalbeastissues', 'promoted_content': None, 'query': '%23mythicalbeastissues', 'tweet_volume': None}, {'name': '#dmexco19', 'url': 'http://twitter.com/search?q=%23dmexco19', 'promoted_content': None, 'query': '%23dmexco19', 'tweet_volume': None}, {'name': '#PENTAGON_PRISM_IN_SEATTLE', 'url': 'http://twitter.com/search?q=%23PENTAGON_PRISM_IN_SEATTLE', 'promoted_content': None, 'query': '%23PENTAGON_PRISM_IN_SEATTLE', 'tweet_volume': None}, {'name': '#parkeologychallenge', 'url': 'http://twitter.com/search?q=%23parkeologychallenge', 'promoted_content': None, 'query': '%23parkeologychallenge', 'tweet_volume': None}, {'name': '#SuicideAwarenessWeek', 'url': 'http://twitter.com/search?q=%23SuicideAwarenessWeek', 'promoted_content': None, 'query': '%23SuicideAwarenessWeek', 'tweet_volume': None}, {'name': '#GhostedAirpods', 'url': 'http://twitter.com/search?q=%23GhostedAirpods', 'promoted_content': None, 'query': '%23GhostedAirpods', 'tweet_volume': None}, {'name': '#votefunnyvalleyfolk', 'url': 'http://twitter.com/search?q=%23votefunnyvalleyfolk', 'promoted_content': None, 'query': '%23votefunnyvalleyfolk', 'tweet_volume': None}, {'name': '#preorder_FEELSPECIAL', 'url': 'http://twitter.com/search?q=%23preorder_FEELSPECIAL', 'promoted_content': None, 'query': '%23preorder_FEELSPECIAL', 'tweet_volume': 15179}, {'name': '#PENTAGONinSEATTLE', 'url': 'http://twitter.com/search?q=%23PENTAGONinSEATTLE', 'promoted_content': None, 'query': '%23PENTAGONinSEATTLE', 'tweet_volume': None}, {'name': '#Fortniteleaks', 'url': 'http://twitter.com/search?q=%23Fortniteleaks', 'promoted_content': None, 'query': '%23Fortniteleaks', 'tweet_volume': None}, {'name': '#happinessbeginstournashville', 'url': 'http://twitter.com/search?q=%23happinessbeginstournashville', 'promoted_content': None, 'query': '%23happinessbeginstournashville', 'tweet_volume': None}, {'name': '#carolinecalloway', 'url': 'http://twitter.com/search?q=%23carolinecalloway', 'promoted_content': None, 'query': '%23carolinecalloway', 'tweet_volume': None}, {'name': '#Sept11', 'url': 'http://twitter.com/search?q=%23Sept11', 'promoted_content': None, 'query': '%23Sept11', 'tweet_volume': None}, {'name': '#yelich', 'url': 'http://twitter.com/search?q=%23yelich', 'promoted_content': None, 'query': '%23yelich', 'tweet_volume': None}, {'name': '#ICPIC2019', 'url': 'http://twitter.com/search?q=%23ICPIC2019', 'promoted_content': None, 'query': '%23ICPIC2019', 'tweet_volume': None}, {'name': '#happybirthdaynamjoon', 'url': 'http://twitter.com/search?q=%23happybirthdaynamjoon', 'promoted_content': None, 'query': '%23happybirthdaynamjoon', 'tweet_volume': None}, {'name': '#instatrivia', 'url': 'http://twitter.com/search?q=%23instatrivia', 'promoted_content': None, 'query': '%23instatrivia', 'tweet_volume': None}, {'name': '#PRIinPerson', 'url': 'http://twitter.com/search?q=%23PRIinPerson', 'promoted_content': None, 'query': '%23PRIinPerson', 'tweet_volume': None}, {'name': '#1linewed', 'url': 'http://twitter.com/search?q=%231linewed', 'promoted_content': None, 'query': '%231linewed', 'tweet_volume': None}, {'name': '#FindCoreyVanDyke', 'url': 'http://twitter.com/search?q=%23FindCoreyVanDyke', 'promoted_content': None, 'query': '%23FindCoreyVanDyke', 'tweet_volume': None}, {'name': '#WhereWereYou', 'url': 'http://twitter.com/search?q=%23WhereWereYou', 'promoted_content': None, 'query': '%23WhereWereYou', 'tweet_volume': None}, {'name': '#PRISMinSEATTLE', 'url': 'http://twitter.com/search?q=%23PRISMinSEATTLE', 'promoted_content': None, 'query': '%23PRISMinSEATTLE', 'tweet_volume': None}, {'name': '#CryPrettyTour360', 'url': 'http://twitter.com/search?q=%23CryPrettyTour360', 'promoted_content': None, 'query': '%23CryPrettyTour360', 'tweet_volume': None}], 'as_of': '2019-09-11T09:48:53Z', 'created_at': '2019-09-11T09:43:25Z', 'locations': [{'name': 'United States', 'woeid': 23424977}]}]\n"
     ]
    }
   ],
   "source": [
    "# The Yahoo! Where On Earth ID for the entire world is 1.\n",
    "# See https://dev.twitter.com/docs/api/1.1/get/trends/place and\n",
    "# http://developer.yahoo.com/geo/geoplanet/\n",
    "\n",
    "WORLD_WOE_ID = 1\n",
    "US_WOE_ID = 23424977\n",
    "\n",
    "# Prefix ID with the underscore for query string parameterization.\n",
    "# Without the underscore, the twitter package appends the ID value\n",
    "# to the URL itself as a special case keyword argument.\n",
    "\n",
    "world_trends = twitter_api.trends.place(_id=WORLD_WOE_ID)\n",
    "us_trends = twitter_api.trends.place(_id=US_WOE_ID)\n",
    "\n",
    "print(world_trends)\n",
    "print()\n",
    "print(us_trends)"
   ]
  },
  {
   "cell_type": "code",
   "execution_count": 9,
   "metadata": {},
   "outputs": [
    {
     "ename": "NameError",
     "evalue": "name 'world_trends' is not defined",
     "output_type": "error",
     "traceback": [
      "\u001b[0;31m---------------------------------------------------------------------------\u001b[0m",
      "\u001b[0;31mNameError\u001b[0m                                 Traceback (most recent call last)",
      "\u001b[0;32m<ipython-input-9-3ca84b10c248>\u001b[0m in \u001b[0;36m<module>\u001b[0;34m\u001b[0m\n\u001b[0;32m----> 1\u001b[0;31m \u001b[0;32mfor\u001b[0m \u001b[0mtrend\u001b[0m \u001b[0;32min\u001b[0m \u001b[0mworld_trends\u001b[0m\u001b[0;34m[\u001b[0m\u001b[0;36m0\u001b[0m\u001b[0;34m]\u001b[0m\u001b[0;34m[\u001b[0m\u001b[0;34m'trends'\u001b[0m\u001b[0;34m]\u001b[0m\u001b[0;34m:\u001b[0m\u001b[0;34m\u001b[0m\u001b[0;34m\u001b[0m\u001b[0m\n\u001b[0m\u001b[1;32m      2\u001b[0m     \u001b[0mprint\u001b[0m\u001b[0;34m(\u001b[0m\u001b[0mtrend\u001b[0m\u001b[0;34m[\u001b[0m\u001b[0;34m'name'\u001b[0m\u001b[0;34m]\u001b[0m\u001b[0;34m)\u001b[0m\u001b[0;34m\u001b[0m\u001b[0;34m\u001b[0m\u001b[0m\n",
      "\u001b[0;31mNameError\u001b[0m: name 'world_trends' is not defined"
     ]
    }
   ],
   "source": [
    "for trend in world_trends[0]['trends']:\n",
    "    print(trend['name'])"
   ]
  },
  {
   "cell_type": "code",
   "execution_count": 10,
   "metadata": {},
   "outputs": [
    {
     "ename": "NameError",
     "evalue": "name 'us_trends' is not defined",
     "output_type": "error",
     "traceback": [
      "\u001b[0;31m---------------------------------------------------------------------------\u001b[0m",
      "\u001b[0;31mNameError\u001b[0m                                 Traceback (most recent call last)",
      "\u001b[0;32m<ipython-input-10-91106343d289>\u001b[0m in \u001b[0;36m<module>\u001b[0;34m\u001b[0m\n\u001b[0;32m----> 1\u001b[0;31m \u001b[0;32mfor\u001b[0m \u001b[0mtrend\u001b[0m \u001b[0;32min\u001b[0m \u001b[0mus_trends\u001b[0m\u001b[0;34m[\u001b[0m\u001b[0;36m0\u001b[0m\u001b[0;34m]\u001b[0m\u001b[0;34m[\u001b[0m\u001b[0;34m'trends'\u001b[0m\u001b[0;34m]\u001b[0m\u001b[0;34m:\u001b[0m\u001b[0;34m\u001b[0m\u001b[0;34m\u001b[0m\u001b[0m\n\u001b[0m\u001b[1;32m      2\u001b[0m     \u001b[0mprint\u001b[0m\u001b[0;34m(\u001b[0m\u001b[0mtrend\u001b[0m\u001b[0;34m[\u001b[0m\u001b[0;34m'name'\u001b[0m\u001b[0;34m]\u001b[0m\u001b[0;34m)\u001b[0m\u001b[0;34m\u001b[0m\u001b[0;34m\u001b[0m\u001b[0m\n",
      "\u001b[0;31mNameError\u001b[0m: name 'us_trends' is not defined"
     ]
    }
   ],
   "source": [
    "for trend in us_trends[0]['trends']:\n",
    "    print(trend['name'])"
   ]
  },
  {
   "cell_type": "code",
   "execution_count": null,
   "metadata": {},
   "outputs": [],
   "source": [
    "world_trends_set = set([trend['name'] \n",
    "                        for trend in world_trends[0]['trends']])\n",
    "\n",
    "us_trends_set = set([trend['name'] \n",
    "                     for trend in us_trends[0]['trends']]) \n",
    "\n",
    "common_trends = world_trends_set.intersection(us_trends_set)\n",
    "\n",
    "print(common_trends)"
   ]
  },
  {
   "cell_type": "markdown",
   "metadata": {},
   "source": [
    "## Anatomy of a Tweet"
   ]
  },
  {
   "cell_type": "code",
   "execution_count": null,
   "metadata": {},
   "outputs": [],
   "source": [
    "import json\n",
    "\n",
    "# Set this variable to a trending topic, \n",
    "# or anything else for that matter. The example query below\n",
    "# was a trending topic when this content was being developed\n",
    "# and is used throughout the remainder of this chapter.\n",
    "\n",
    "q = '#MothersDay' \n",
    "\n",
    "count = 100\n",
    "\n",
    "# Import unquote to prevent url encoding errors in next_results\n",
    "from urllib.parse import unquote\n",
    "\n",
    "# See https://dev.twitter.com/rest/reference/get/search/tweets\n",
    "\n",
    "search_results = twitter_api.search.tweets(q=q, count=count)\n",
    "\n",
    "statuses = search_results['statuses']\n",
    "\n",
    "\n",
    "# Iterate through 5 more batches of results by following the cursor\n",
    "for _ in range(5):\n",
    "    print('Length of statuses', len(statuses))\n",
    "    try:\n",
    "        next_results = search_results['search_metadata']['next_results']\n",
    "    except KeyError as e: # No more results when next_results doesn't exist\n",
    "        break\n",
    "        \n",
    "    # Create a dictionary from next_results, which has the following form:\n",
    "    # ?max_id=847960489447628799&q=%23RIPSelena&count=100&include_entities=1\n",
    "    kwargs = dict([ kv.split('=') for kv in unquote(next_results[1:]).split(\"&\") ])\n",
    "    \n",
    "    search_results = twitter_api.search.tweets(**kwargs)\n",
    "    statuses += search_results['statuses']\n",
    "\n",
    "# Show one sample search result by slicing the list...\n",
    "print(json.dumps(statuses[0], indent=1))"
   ]
  },
  {
   "cell_type": "code",
   "execution_count": null,
   "metadata": {},
   "outputs": [],
   "source": [
    "for i in range(10):\n",
    "    print()\n",
    "    print(statuses[i]['text'])\n",
    "    print('Favorites: ', statuses[i]['favorite_count'])\n",
    "    print('Retweets: ', statuses[i]['retweet_count'])"
   ]
  },
  {
   "cell_type": "markdown",
   "metadata": {},
   "source": [
    "## Extracting text, screen names, and hashtags from tweets"
   ]
  },
  {
   "cell_type": "code",
   "execution_count": null,
   "metadata": {},
   "outputs": [],
   "source": [
    "status_texts = [ status['text'] \n",
    "                 for status in statuses ]\n",
    "\n",
    "screen_names = [ user_mention['screen_name'] \n",
    "                 for status in statuses\n",
    "                     for user_mention in status['entities']['user_mentions'] ]\n",
    "\n",
    "hashtags = [ hashtag['text'] \n",
    "             for status in statuses\n",
    "                 for hashtag in status['entities']['hashtags'] ]\n",
    "\n",
    "# Compute a collection of all words from all tweets\n",
    "words = [ w \n",
    "          for t in status_texts \n",
    "              for w in t.split() ]\n",
    "\n",
    "# Explore the first 5 items for each...\n",
    "\n",
    "print(json.dumps(status_texts[0:5], indent=1))\n",
    "print(json.dumps(screen_names[0:5], indent=1) )\n",
    "print(json.dumps(hashtags[0:5], indent=1))\n",
    "print(json.dumps(words[0:5], indent=1))"
   ]
  },
  {
   "cell_type": "markdown",
   "metadata": {},
   "source": [
    "## Creating a basic frequency distribution from the words in tweets"
   ]
  },
  {
   "cell_type": "code",
   "execution_count": null,
   "metadata": {},
   "outputs": [],
   "source": [
    "from collections import Counter\n",
    "\n",
    "for item in [words, screen_names, hashtags]:\n",
    "    c = Counter(item)\n",
    "    print(c.most_common()[:10]) # top 10\n",
    "    print()"
   ]
  },
  {
   "cell_type": "markdown",
   "metadata": {},
   "source": [
    "## Using prettytable to display tuples in a nice tabular format"
   ]
  },
  {
   "cell_type": "code",
   "execution_count": null,
   "metadata": {},
   "outputs": [],
   "source": [
    "from prettytable import PrettyTable\n",
    "\n",
    "for label, data in (('Word', words), \n",
    "                    ('Screen Name', screen_names), \n",
    "                    ('Hashtag', hashtags)):\n",
    "    pt = PrettyTable(field_names=[label, 'Count']) \n",
    "    c = Counter(data)\n",
    "    [ pt.add_row(kv) for kv in c.most_common()[:10] ]\n",
    "    pt.align[label], pt.align['Count'] = 'l', 'r' # Set column alignment\n",
    "    print(pt)"
   ]
  },
  {
   "cell_type": "markdown",
   "metadata": {},
   "source": [
    "## Calculating lexical diversity for tweets"
   ]
  },
  {
   "cell_type": "code",
   "execution_count": null,
   "metadata": {},
   "outputs": [],
   "source": [
    "# A function for computing lexical diversity\n",
    "def lexical_diversity(tokens):\n",
    "    return len(set(tokens))/len(tokens) \n",
    "\n",
    "# A function for computing the average number of words per tweet\n",
    "def average_words(statuses):\n",
    "    total_words = sum([ len(s.split()) for s in statuses ]) \n",
    "    return total_words/len(statuses)\n",
    "\n",
    "print(lexical_diversity(words))\n",
    "print(lexical_diversity(screen_names))\n",
    "print(lexical_diversity(hashtags))\n",
    "print(average_words(status_texts))"
   ]
  },
  {
   "cell_type": "markdown",
   "metadata": {},
   "source": [
    "## Finding the most popular retweets"
   ]
  },
  {
   "cell_type": "code",
   "execution_count": null,
   "metadata": {},
   "outputs": [],
   "source": [
    "retweets = [\n",
    "            # Store out a tuple of these three values ...\n",
    "            (status['retweet_count'], \n",
    "             status['retweeted_status']['user']['screen_name'],\n",
    "             status['retweeted_status']['id'],\n",
    "             status['text']) \n",
    "            \n",
    "            # ... for each status ...\n",
    "            for status in statuses \n",
    "            \n",
    "            # ... so long as the status meets this condition.\n",
    "                if 'retweeted_status' in status.keys()\n",
    "           ]\n",
    "\n",
    "# Slice off the first 5 from the sorted results and display each item in the tuple\n",
    "\n",
    "pt = PrettyTable(field_names=['Count', 'Screen Name', 'Tweet ID', 'Text'])\n",
    "[ pt.add_row(row) for row in sorted(retweets, reverse=True)[:5] ]\n",
    "pt.max_width['Text'] = 50\n",
    "pt.align= 'l'\n",
    "print(pt)"
   ]
  },
  {
   "cell_type": "markdown",
   "metadata": {},
   "source": [
    "## Looking up users who have retweeted a status"
   ]
  },
  {
   "cell_type": "code",
   "execution_count": null,
   "metadata": {},
   "outputs": [],
   "source": [
    "# Get the original tweet id for a tweet from its retweeted_status node \n",
    "# and insert it here\n",
    "\n",
    "_retweets = twitter_api.statuses.retweets(id=862359093398261760)\n",
    "print([r['user']['screen_name'] for r in _retweets])"
   ]
  },
  {
   "cell_type": "markdown",
   "metadata": {},
   "source": [
    "## Plotting frequencies of words"
   ]
  },
  {
   "cell_type": "code",
   "execution_count": null,
   "metadata": {},
   "outputs": [],
   "source": [
    "import matplotlib.pyplot as plt\n",
    "%matplotlib inline\n",
    "word_counts = sorted(Counter(words).values(), reverse=True)\n",
    "\n",
    "plt.loglog(word_counts)\n",
    "plt.ylabel(\"Freq\")\n",
    "plt.xlabel(\"Word Rank\")"
   ]
  },
  {
   "cell_type": "markdown",
   "metadata": {},
   "source": [
    "## Generating histograms of words, screen names, and hashtags"
   ]
  },
  {
   "cell_type": "code",
   "execution_count": null,
   "metadata": {},
   "outputs": [],
   "source": [
    "for label, data in (('Words', words), \n",
    "                    ('Screen Names', screen_names), \n",
    "                    ('Hashtags', hashtags)):\n",
    "\n",
    "    # Build a frequency map for each set of data\n",
    "    # and plot the values\n",
    "    c = Counter(data)\n",
    "    plt.hist(list(c.values()))\n",
    "    \n",
    "    # Add a title and y-label ...\n",
    "    plt.title(label)\n",
    "    plt.ylabel(\"Number of items in bin\")\n",
    "    plt.xlabel(\"Bins (number of times an item appeared)\")\n",
    "    \n",
    "    # ... and display as a new figure\n",
    "    plt.figure()"
   ]
  },
  {
   "cell_type": "markdown",
   "metadata": {},
   "source": [
    "## Generating a histogram of retweet counts"
   ]
  },
  {
   "cell_type": "code",
   "execution_count": null,
   "metadata": {},
   "outputs": [],
   "source": [
    "# Using underscores while unpacking values in\n",
    "# a tuple is idiomatic for discarding them\n",
    "\n",
    "counts = [count for count, _, _, _ in retweets]\n",
    "\n",
    "plt.hist(counts)\n",
    "plt.title('Retweets')\n",
    "plt.xlabel('Bins (number of times retweeted)')\n",
    "plt.ylabel('Number of tweets in bin')"
   ]
  },
  {
   "cell_type": "markdown",
   "metadata": {
    "collapsed": true
   },
   "source": [
    "## Sentiment Analysis"
   ]
  },
  {
   "cell_type": "code",
   "execution_count": null,
   "metadata": {},
   "outputs": [],
   "source": [
    "# pip install nltk\n",
    "import nltk\n",
    "nltk.download('vader_lexicon')\n",
    "\n",
    "import numpy as np\n",
    "from nltk.sentiment.vader import SentimentIntensityAnalyzer"
   ]
  },
  {
   "cell_type": "code",
   "execution_count": null,
   "metadata": {},
   "outputs": [],
   "source": [
    "twitter_stream = twitter.TwitterStream(auth=auth)\n",
    "iterator = twitter_stream.statuses.sample()"
   ]
  },
  {
   "cell_type": "code",
   "execution_count": null,
   "metadata": {},
   "outputs": [],
   "source": [
    "tweets = []\n",
    "for tweet in iterator:\n",
    "    try:\n",
    "        if tweet['lang'] == 'en':\n",
    "            tweets.append(tweet)\n",
    "    except:\n",
    "        pass\n",
    "    if len(tweets) == 100:\n",
    "        break"
   ]
  },
  {
   "cell_type": "code",
   "execution_count": null,
   "metadata": {},
   "outputs": [],
   "source": [
    "analyzer = SentimentIntensityAnalyzer()"
   ]
  },
  {
   "cell_type": "code",
   "execution_count": null,
   "metadata": {},
   "outputs": [],
   "source": [
    "analyzer.polarity_scores('Hello')"
   ]
  },
  {
   "cell_type": "code",
   "execution_count": null,
   "metadata": {},
   "outputs": [],
   "source": [
    "analyzer.polarity_scores('I really enjoy this video series.')"
   ]
  },
  {
   "cell_type": "code",
   "execution_count": null,
   "metadata": {},
   "outputs": [],
   "source": [
    "analyzer.polarity_scores('I REALLY enjoy this video series.')"
   ]
  },
  {
   "cell_type": "code",
   "execution_count": null,
   "metadata": {},
   "outputs": [],
   "source": [
    "analyzer.polarity_scores('I REALLY enjoy this video series!!!')"
   ]
  },
  {
   "cell_type": "code",
   "execution_count": null,
   "metadata": {},
   "outputs": [],
   "source": [
    "analyzer.polarity_scores('I REALLY did not enjoy this video series!!!')"
   ]
  },
  {
   "cell_type": "code",
   "execution_count": null,
   "metadata": {},
   "outputs": [],
   "source": [
    "scores = np.zeros(len(tweets))\n",
    "\n",
    "for i, t in enumerate(tweets):\n",
    "    # Extract the text portion of the tweet\n",
    "    text = t['text']\n",
    "    \n",
    "    # Measure the polarity of the tweet\n",
    "    polarity = analyzer.polarity_scores(text)\n",
    "    \n",
    "    # Store the normalized, weighted composite score\n",
    "    scores[i] = polarity['compound']"
   ]
  },
  {
   "cell_type": "code",
   "execution_count": null,
   "metadata": {},
   "outputs": [],
   "source": [
    "most_positive = np.argmax(scores)\n",
    "most_negative = np.argmin(scores)"
   ]
  },
  {
   "cell_type": "code",
   "execution_count": null,
   "metadata": {},
   "outputs": [],
   "source": [
    "print('{0:6.3f} : \"{1}\"'.format(scores[most_positive], tweets[most_positive]['text']))"
   ]
  },
  {
   "cell_type": "code",
   "execution_count": null,
   "metadata": {},
   "outputs": [],
   "source": [
    "print('{0:6.3f} : \"{1}\"'.format(scores[most_negative], tweets[most_negative]['text']))"
   ]
  },
  {
   "cell_type": "code",
   "execution_count": null,
   "metadata": {},
   "outputs": [],
   "source": []
  }
 ],
 "metadata": {
  "kernelspec": {
   "display_name": "Python 3",
   "language": "python",
   "name": "python3"
  },
  "language_info": {
   "codemirror_mode": {
    "name": "ipython",
    "version": 3
   },
   "file_extension": ".py",
   "mimetype": "text/x-python",
   "name": "python",
   "nbconvert_exporter": "python",
   "pygments_lexer": "ipython3",
   "version": "3.6.8"
  }
 },
 "nbformat": 4,
 "nbformat_minor": 1
}
