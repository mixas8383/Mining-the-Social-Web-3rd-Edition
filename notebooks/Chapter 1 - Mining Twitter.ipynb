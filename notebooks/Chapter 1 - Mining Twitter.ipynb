{
 "cells": [
  {
   "cell_type": "markdown",
   "metadata": {},
   "source": [
    "# Mining Twitter\n",
    "\n",
    "Twitter implements OAuth 1.0A as its standard authentication mechanism, and in order to use it to make requests to Twitter's API, you'll need to go to https://developer.twitter.com/en/apps and create a sample application. It is possible that Twitter no longer supports sandboxed applications and you may need to submit a request for permission to develop an app on Twitter.\n",
    "\n",
    "There are four primary identifiers you'll need to note for an OAuth 1.0A workflow: consumer key, consumer secret, access token, and access token secret. Note that you will need an ordinary Twitter account in order to login, create an app, and get these credentials.\n",
    "\n",
    "<img src=\"resources/ch01-twitter/images/Twitter-AppCredentials.png\" width=\"600px\">"
   ]
  },
  {
   "cell_type": "markdown",
   "metadata": {},
   "source": [
    "If you are running this code on Binder or from the Docker container, you should just be able to execute the code in this notebook without any worries whatsoever about installing dependencies. If you are running the code from your own development envioronment, however, be advised that these examples in this chapter take advantage of a Python package called [twitter](https://github.com/sixohsix/twitter) to make API calls. You can install this package in a terminal with [pip](https://pypi.python.org/pypi/pip) with the command `pip install twitter`, preferably from within a [Python virtual environment](https://pypi.python.org/pypi/virtualenv). "
   ]
  },
  {
   "cell_type": "markdown",
   "metadata": {},
   "source": [
    "Once installed, you should be able to open up a Python interpreter (or better yet, your [IPython](http://ipython.org/) interpreter) and get rolling."
   ]
  },
  {
   "cell_type": "markdown",
   "metadata": {},
   "source": [
    "## Authorizing an application to access Twitter account data"
   ]
  },
  {
   "cell_type": "code",
   "execution_count": 2,
   "metadata": {},
   "outputs": [
    {
     "name": "stdout",
     "output_type": "stream",
     "text": [
      "<twitter.api.Twitter object at 0x7f89a4b5d5c0>\n"
     ]
    }
   ],
   "source": [
    "import twitter\n",
    "import os\n",
    "\n",
    "# settings.py\n",
    "from os.path import join, dirname\n",
    "from dotenv import load_dotenv\n",
    "load_dotenv('./.env')\n",
    "\n",
    "\n",
    "# Create .env file path.\n",
    "#dotenv_path = join(dirname(__file__), '.env')\n",
    " \n",
    "# Load file from the path.\n",
    "#load_dotenv(dotenv_path)\n",
    "\n",
    "# Go to https://developer.twitter.com/en/apps to create an app and get values\n",
    "# for these credentials, which you'll need to provide in place of these\n",
    "# empty string values that are defined as placeholders.\n",
    "# See https://developer.twitter.com/en/docs/basics/authentication/overview/oauth\n",
    "# for more information on Twitter's OAuth implementation.\n",
    "\n",
    "CONSUMER_KEY = os.getenv('TWITTER_CONSUMER_KEY')\n",
    "CONSUMER_SECRET = os.getenv('TWITTER_CONSUMER_SECRET')\n",
    "OAUTH_TOKEN = os.getenv('TWITTER_OAUTH_TOKEN')\n",
    "OAUTH_TOKEN_SECRET = os.getenv('TWITTER_OAUTH_TOKEN_SECRET')\n",
    "\n",
    "auth = twitter.oauth.OAuth(OAUTH_TOKEN, OAUTH_TOKEN_SECRET,\n",
    "                           CONSUMER_KEY, CONSUMER_SECRET)\n",
    "\n",
    "twitter_api = twitter.Twitter(auth=auth)\n",
    "\n",
    "# Nothing to see by displaying twitter_api except that it's now a\n",
    "# defined variable\n",
    "\n",
    "print(twitter_api)"
   ]
  },
  {
   "cell_type": "markdown",
   "metadata": {},
   "source": [
    "## Retrieving trends"
   ]
  },
  {
   "cell_type": "code",
   "execution_count": 32,
   "metadata": {},
   "outputs": [
    {
     "name": "stdout",
     "output_type": "stream",
     "text": [
      "[{'trends': [{'name': '#AlwaysWithJK', 'url': 'http://twitter.com/search?q=%23AlwaysWithJK', 'promoted_content': None, 'query': '%23AlwaysWithJK', 'tweet_volume': 162006}, {'name': '#BienvenidaSwitchLite', 'url': 'http://twitter.com/search?q=%23BienvenidaSwitchLite', 'promoted_content': None, 'query': '%23BienvenidaSwitchLite', 'tweet_volume': None}, {'name': '#1JutaRameinTwitter', 'url': 'http://twitter.com/search?q=%231JutaRameinTwitter', 'promoted_content': None, 'query': '%231JutaRameinTwitter', 'tweet_volume': 19103}, {'name': '#あなたの体調不良の原因上位5つ', 'url': 'http://twitter.com/search?q=%23%E3%81%82%E3%81%AA%E3%81%9F%E3%81%AE%E4%BD%93%E8%AA%BF%E4%B8%8D%E8%89%AF%E3%81%AE%E5%8E%9F%E5%9B%A0%E4%B8%8A%E4%BD%8D5%E3%81%A4', 'promoted_content': None, 'query': '%23%E3%81%82%E3%81%AA%E3%81%9F%E3%81%AE%E4%BD%93%E8%AA%BF%E4%B8%8D%E8%89%AF%E3%81%AE%E5%8E%9F%E5%9B%A0%E4%B8%8A%E4%BD%8D5%E3%81%A4', 'tweet_volume': None}, {'name': '#AdnanMenderes', 'url': 'http://twitter.com/search?q=%23AdnanMenderes', 'promoted_content': None, 'query': '%23AdnanMenderes', 'tweet_volume': 25682}, {'name': 'ドゥムジ', 'url': 'http://twitter.com/search?q=%E3%83%89%E3%82%A5%E3%83%A0%E3%82%B8', 'promoted_content': None, 'query': '%E3%83%89%E3%82%A5%E3%83%A0%E3%82%B8', 'tweet_volume': None}, {'name': '安定の5等', 'url': 'http://twitter.com/search?q=%E5%AE%89%E5%AE%9A%E3%81%AE5%E7%AD%89', 'promoted_content': None, 'query': '%E5%AE%89%E5%AE%9A%E3%81%AE5%E7%AD%89', 'tweet_volume': None}, {'name': 'シドゥリさん', 'url': 'http://twitter.com/search?q=%E3%82%B7%E3%83%89%E3%82%A5%E3%83%AA%E3%81%95%E3%82%93', 'promoted_content': None, 'query': '%E3%82%B7%E3%83%89%E3%82%A5%E3%83%AA%E3%81%95%E3%82%93', 'tweet_volume': None}, {'name': '観艦式', 'url': 'http://twitter.com/search?q=%E8%A6%B3%E8%89%A6%E5%BC%8F', 'promoted_content': None, 'query': '%E8%A6%B3%E8%89%A6%E5%BC%8F', 'tweet_volume': None}, {'name': '보증금', 'url': 'http://twitter.com/search?q=%EB%B3%B4%EC%A6%9D%EA%B8%88', 'promoted_content': None, 'query': '%EB%B3%B4%EC%A6%9D%EA%B8%88', 'tweet_volume': None}, {'name': '고시원', 'url': 'http://twitter.com/search?q=%EA%B3%A0%EC%8B%9C%EC%9B%90', 'promoted_content': None, 'query': '%EA%B3%A0%EC%8B%9C%EC%9B%90', 'tweet_volume': None}, {'name': '全るーみっくアニメ大投票', 'url': 'http://twitter.com/search?q=%E5%85%A8%E3%82%8B%E3%83%BC%E3%81%BF%E3%81%A3%E3%81%8F%E3%82%A2%E3%83%8B%E3%83%A1%E5%A4%A7%E6%8A%95%E7%A5%A8', 'promoted_content': None, 'query': '%E5%85%A8%E3%82%8B%E3%83%BC%E3%81%BF%E3%81%A3%E3%81%8F%E3%82%A2%E3%83%8B%E3%83%A1%E5%A4%A7%E6%8A%95%E7%A5%A8', 'tweet_volume': 23610}, {'name': '懲役8年', 'url': 'http://twitter.com/search?q=%E6%87%B2%E5%BD%B98%E5%B9%B4', 'promoted_content': None, 'query': '%E6%87%B2%E5%BD%B98%E5%B9%B4', 'tweet_volume': None}, {'name': '非リア充', 'url': 'http://twitter.com/search?q=%E9%9D%9E%E3%83%AA%E3%82%A2%E5%85%85', 'promoted_content': None, 'query': '%E9%9D%9E%E3%83%AA%E3%82%A2%E5%85%85', 'tweet_volume': None}, {'name': '청년주택', 'url': 'http://twitter.com/search?q=%EC%B2%AD%EB%85%84%EC%A3%BC%ED%83%9D', 'promoted_content': None, 'query': '%EC%B2%AD%EB%85%84%EC%A3%BC%ED%83%9D', 'tweet_volume': 18160}, {'name': '#HappyBdayPMModi', 'url': 'http://twitter.com/search?q=%23HappyBdayPMModi', 'promoted_content': None, 'query': '%23HappyBdayPMModi', 'tweet_volume': 159664}, {'name': '#TuesdayThoughts', 'url': 'http://twitter.com/search?q=%23TuesdayThoughts', 'promoted_content': None, 'query': '%23TuesdayThoughts', 'tweet_volume': 21082}, {'name': '#MHWアイスボーン狩猟解禁', 'url': 'http://twitter.com/search?q=%23MHW%E3%82%A2%E3%82%A4%E3%82%B9%E3%83%9C%E3%83%BC%E3%83%B3%E7%8B%A9%E7%8C%9F%E8%A7%A3%E7%A6%81', 'promoted_content': None, 'query': '%23MHW%E3%82%A2%E3%82%A4%E3%82%B9%E3%83%9C%E3%83%BC%E3%83%B3%E7%8B%A9%E7%8C%9F%E8%A7%A3%E7%A6%81', 'tweet_volume': 11574}, {'name': '#الهلال_الاتحاد_دوري_اسيا', 'url': 'http://twitter.com/search?q=%23%D8%A7%D9%84%D9%87%D9%84%D8%A7%D9%84_%D8%A7%D9%84%D8%A7%D8%AA%D8%AD%D8%A7%D8%AF_%D8%AF%D9%88%D8%B1%D9%8A_%D8%A7%D8%B3%D9%8A%D8%A7', 'promoted_content': None, 'query': '%23%D8%A7%D9%84%D9%87%D9%84%D8%A7%D9%84_%D8%A7%D9%84%D8%A7%D8%AA%D8%AD%D8%A7%D8%AF_%D8%AF%D9%88%D8%B1%D9%8A_%D8%A7%D8%B3%D9%8A%D8%A7', 'tweet_volume': 30869}, {'name': '#HazıraKonucuCHP', 'url': 'http://twitter.com/search?q=%23Haz%C4%B1raKonucuCHP', 'promoted_content': None, 'query': '%23Haz%C4%B1raKonucuCHP', 'tweet_volume': None}, {'name': '#500LeRiaHai', 'url': 'http://twitter.com/search?q=%23500LeRiaHai', 'promoted_content': None, 'query': '%23500LeRiaHai', 'tweet_volume': 12410}, {'name': '#あなたの声のランクは', 'url': 'http://twitter.com/search?q=%23%E3%81%82%E3%81%AA%E3%81%9F%E3%81%AE%E5%A3%B0%E3%81%AE%E3%83%A9%E3%83%B3%E3%82%AF%E3%81%AF', 'promoted_content': None, 'query': '%23%E3%81%82%E3%81%AA%E3%81%9F%E3%81%AE%E5%A3%B0%E3%81%AE%E3%83%A9%E3%83%B3%E3%82%AF%E3%81%AF', 'tweet_volume': None}, {'name': '#كفايه_بقي_ياسيسيي', 'url': 'http://twitter.com/search?q=%23%D9%83%D9%81%D8%A7%D9%8A%D9%87_%D8%A8%D9%82%D9%8A_%D9%8A%D8%A7%D8%B3%D9%8A%D8%B3%D9%8A%D9%8A', 'promoted_content': None, 'query': '%23%D9%83%D9%81%D8%A7%D9%8A%D9%87_%D8%A8%D9%82%D9%8A_%D9%8A%D8%A7%D8%B3%D9%8A%D8%B3%D9%8A%D9%8A', 'tweet_volume': 40671}, {'name': '#TellEm131', 'url': 'http://twitter.com/search?q=%23TellEm131', 'promoted_content': None, 'query': '%23TellEm131', 'tweet_volume': 100886}, {'name': '#Renzi', 'url': 'http://twitter.com/search?q=%23Renzi', 'promoted_content': None, 'query': '%23Renzi', 'tweet_volume': 18741}, {'name': '#salı', 'url': 'http://twitter.com/search?q=%23sal%C4%B1', 'promoted_content': None, 'query': '%23sal%C4%B1', 'tweet_volume': 13147}, {'name': '#WorldPatientSafetyDay', 'url': 'http://twitter.com/search?q=%23WorldPatientSafetyDay', 'promoted_content': None, 'query': '%23WorldPatientSafetyDay', 'tweet_volume': None}, {'name': '#AnnelerDiyarbakırda', 'url': 'http://twitter.com/search?q=%23AnnelerDiyarbak%C4%B1rda', 'promoted_content': None, 'query': '%23AnnelerDiyarbak%C4%B1rda', 'tweet_volume': None}, {'name': '#KuralHatasiVarTff', 'url': 'http://twitter.com/search?q=%23KuralHatasiVarTff', 'promoted_content': None, 'query': '%23KuralHatasiVarTff', 'tweet_volume': 42023}, {'name': '#SupremeCourtFacts', 'url': 'http://twitter.com/search?q=%23SupremeCourtFacts', 'promoted_content': None, 'query': '%23SupremeCourtFacts', 'tweet_volume': None}, {'name': '#ChampionsLeague', 'url': 'http://twitter.com/search?q=%23ChampionsLeague', 'promoted_content': None, 'query': '%23ChampionsLeague', 'tweet_volume': 14231}, {'name': '#صباح_الثلاثاء', 'url': 'http://twitter.com/search?q=%23%D8%B5%D8%A8%D8%A7%D8%AD_%D8%A7%D9%84%D8%AB%D9%84%D8%A7%D8%AB%D8%A7%D8%A1', 'promoted_content': None, 'query': '%23%D8%B5%D8%A8%D8%A7%D8%AD_%D8%A7%D9%84%D8%AB%D9%84%D8%A7%D8%AB%D8%A7%D8%A1', 'tweet_volume': 13368}, {'name': '#EmperorOfPollsTHALAFans', 'url': 'http://twitter.com/search?q=%23EmperorOfPollsTHALAFans', 'promoted_content': None, 'query': '%23EmperorOfPollsTHALAFans', 'tweet_volume': 60426}, {'name': '#ความห่วงใยจากแดนไกล', 'url': 'http://twitter.com/search?q=%23%E0%B8%84%E0%B8%A7%E0%B8%B2%E0%B8%A1%E0%B8%AB%E0%B9%88%E0%B8%A7%E0%B8%87%E0%B9%83%E0%B8%A2%E0%B8%88%E0%B8%B2%E0%B8%81%E0%B9%81%E0%B8%94%E0%B8%99%E0%B9%84%E0%B8%81%E0%B8%A5', 'promoted_content': None, 'query': '%23%E0%B8%84%E0%B8%A7%E0%B8%B2%E0%B8%A1%E0%B8%AB%E0%B9%88%E0%B8%A7%E0%B8%87%E0%B9%83%E0%B8%A2%E0%B8%88%E0%B8%B2%E0%B8%81%E0%B9%81%E0%B8%94%E0%B8%99%E0%B9%84%E0%B8%81%E0%B8%A5', 'tweet_volume': 48684}, {'name': '#ParalarNerede', 'url': 'http://twitter.com/search?q=%23ParalarNerede', 'promoted_content': None, 'query': '%23ParalarNerede', 'tweet_volume': None}, {'name': '#曲名の一部をもやしにすると弱い', 'url': 'http://twitter.com/search?q=%23%E6%9B%B2%E5%90%8D%E3%81%AE%E4%B8%80%E9%83%A8%E3%82%92%E3%82%82%E3%82%84%E3%81%97%E3%81%AB%E3%81%99%E3%82%8B%E3%81%A8%E5%BC%B1%E3%81%84', 'promoted_content': None, 'query': '%23%E6%9B%B2%E5%90%8D%E3%81%AE%E4%B8%80%E9%83%A8%E3%82%92%E3%82%82%E3%82%84%E3%81%97%E3%81%AB%E3%81%99%E3%82%8B%E3%81%A8%E5%BC%B1%E3%81%84', 'tweet_volume': 27825}, {'name': '#人に言うと引かれちゃう事', 'url': 'http://twitter.com/search?q=%23%E4%BA%BA%E3%81%AB%E8%A8%80%E3%81%86%E3%81%A8%E5%BC%95%E3%81%8B%E3%82%8C%E3%81%A1%E3%82%83%E3%81%86%E4%BA%8B', 'promoted_content': None, 'query': '%23%E4%BA%BA%E3%81%AB%E8%A8%80%E3%81%86%E3%81%A8%E5%BC%95%E3%81%8B%E3%82%8C%E3%81%A1%E3%82%83%E3%81%86%E4%BA%8B', 'tweet_volume': None}, {'name': '#الاسيويه_صعبه_قويه', 'url': 'http://twitter.com/search?q=%23%D8%A7%D9%84%D8%A7%D8%B3%D9%8A%D9%88%D9%8A%D9%87_%D8%B5%D8%B9%D8%A8%D9%87_%D9%82%D9%88%D9%8A%D9%87', 'promoted_content': None, 'query': '%23%D8%A7%D9%84%D8%A7%D8%B3%D9%8A%D9%88%D9%8A%D9%87_%D8%B5%D8%B9%D8%A8%D9%87_%D9%82%D9%88%D9%8A%D9%87', 'tweet_volume': 12226}, {'name': '#ประยุทธ์อยู่ไหน', 'url': 'http://twitter.com/search?q=%23%E0%B8%9B%E0%B8%A3%E0%B8%B0%E0%B8%A2%E0%B8%B8%E0%B8%97%E0%B8%98%E0%B9%8C%E0%B8%AD%E0%B8%A2%E0%B8%B9%E0%B9%88%E0%B9%84%E0%B8%AB%E0%B8%99', 'promoted_content': None, 'query': '%23%E0%B8%9B%E0%B8%A3%E0%B8%B0%E0%B8%A2%E0%B8%B8%E0%B8%97%E0%B8%98%E0%B9%8C%E0%B8%AD%E0%B8%A2%E0%B8%B9%E0%B9%88%E0%B9%84%E0%B8%AB%E0%B8%99', 'tweet_volume': 57683}, {'name': '#بوبيان_كل_ثلاثاء', 'url': 'http://twitter.com/search?q=%23%D8%A8%D9%88%D8%A8%D9%8A%D8%A7%D9%86_%D9%83%D9%84_%D8%AB%D9%84%D8%A7%D8%AB%D8%A7%D8%A1', 'promoted_content': None, 'query': '%23%D8%A8%D9%88%D8%A8%D9%8A%D8%A7%D9%86_%D9%83%D9%84_%D8%AB%D9%84%D8%A7%D8%AB%D8%A7%D8%A1', 'tweet_volume': None}, {'name': '#prinsjesdag2019', 'url': 'http://twitter.com/search?q=%23prinsjesdag2019', 'promoted_content': None, 'query': '%23prinsjesdag2019', 'tweet_volume': None}, {'name': '#17Settembre', 'url': 'http://twitter.com/search?q=%2317Settembre', 'promoted_content': None, 'query': '%2317Settembre', 'tweet_volume': None}, {'name': '#SomebodyNew', 'url': 'http://twitter.com/search?q=%23SomebodyNew', 'promoted_content': None, 'query': '%23SomebodyNew', 'tweet_volume': 62731}, {'name': '#DünyaküfürGünü', 'url': 'http://twitter.com/search?q=%23D%C3%BCnyak%C3%BCf%C3%BCrG%C3%BCn%C3%BC', 'promoted_content': None, 'query': '%23D%C3%BCnyak%C3%BCf%C3%BCrG%C3%BCn%C3%BC', 'tweet_volume': None}, {'name': '#MiTV', 'url': 'http://twitter.com/search?q=%23MiTV', 'promoted_content': None, 'query': '%23MiTV', 'tweet_volume': None}, {'name': '#HBDPERIYAR141', 'url': 'http://twitter.com/search?q=%23HBDPERIYAR141', 'promoted_content': None, 'query': '%23HBDPERIYAR141', 'tweet_volume': 56810}, {'name': '#JusticeForNimrita', 'url': 'http://twitter.com/search?q=%23JusticeForNimrita', 'promoted_content': None, 'query': '%23JusticeForNimrita', 'tweet_volume': None}, {'name': '#TRINITYDEBUT', 'url': 'http://twitter.com/search?q=%23TRINITYDEBUT', 'promoted_content': None, 'query': '%23TRINITYDEBUT', 'tweet_volume': 50960}, {'name': '#MOONCHILDCHALLENGE', 'url': 'http://twitter.com/search?q=%23MOONCHILDCHALLENGE', 'promoted_content': None, 'query': '%23MOONCHILDCHALLENGE', 'tweet_volume': None}, {'name': '#RiveraAR', 'url': 'http://twitter.com/search?q=%23RiveraAR', 'promoted_content': None, 'query': '%23RiveraAR', 'tweet_volume': None}], 'as_of': '2019-09-17T09:37:18Z', 'created_at': '2019-09-17T09:34:15Z', 'locations': [{'name': 'Worldwide', 'woeid': 1}]}]\n",
      "\n",
      "[{'trends': [{'name': '#AlwaysWithJK', 'url': 'http://twitter.com/search?q=%23AlwaysWithJK', 'promoted_content': None, 'query': '%23AlwaysWithJK', 'tweet_volume': 162006}, {'name': '#tuesdaythoughts', 'url': 'http://twitter.com/search?q=%23tuesdaythoughts', 'promoted_content': None, 'query': '%23tuesdaythoughts', 'tweet_volume': 21082}, {'name': '#BiWeek', 'url': 'http://twitter.com/search?q=%23BiWeek', 'promoted_content': None, 'query': '%23BiWeek', 'tweet_volume': 22394}, {'name': '#StrangeThingsParentsSay', 'url': 'http://twitter.com/search?q=%23StrangeThingsParentsSay', 'promoted_content': None, 'query': '%23StrangeThingsParentsSay', 'tweet_volume': None}, {'name': '#TMobileTuesdays', 'url': 'http://twitter.com/search?q=%23TMobileTuesdays', 'promoted_content': None, 'query': '%23TMobileTuesdays', 'tweet_volume': None}, {'name': 'Too Many Zooz', 'url': 'http://twitter.com/search?q=%22Too+Many+Zooz%22', 'promoted_content': None, 'query': '%22Too+Many+Zooz%22', 'tweet_volume': None}, {'name': 'Steve Cortes', 'url': 'http://twitter.com/search?q=%22Steve+Cortes%22', 'promoted_content': None, 'query': '%22Steve+Cortes%22', 'tweet_volume': None}, {'name': 'Diekman', 'url': 'http://twitter.com/search?q=Diekman', 'promoted_content': None, 'query': 'Diekman', 'tweet_volume': None}, {'name': 'High Court', 'url': 'http://twitter.com/search?q=%22High+Court%22', 'promoted_content': None, 'query': '%22High+Court%22', 'tweet_volume': 22094}, {'name': 'SIFAS', 'url': 'http://twitter.com/search?q=SIFAS', 'promoted_content': None, 'query': 'SIFAS', 'tweet_volume': None}, {'name': 'bring the soul', 'url': 'http://twitter.com/search?q=%22bring+the+soul%22', 'promoted_content': None, 'query': '%22bring+the+soul%22', 'tweet_volume': 32381}, {'name': 'Ramsey', 'url': 'http://twitter.com/search?q=Ramsey', 'promoted_content': None, 'query': 'Ramsey', 'tweet_volume': 108775}, {'name': 'Jets', 'url': 'http://twitter.com/search?q=Jets', 'promoted_content': None, 'query': 'Jets', 'tweet_volume': 270562}, {'name': 'Kavanaugh', 'url': 'http://twitter.com/search?q=Kavanaugh', 'promoted_content': None, 'query': 'Kavanaugh', 'tweet_volume': 1159997}, {'name': 'Iran', 'url': 'http://twitter.com/search?q=Iran', 'promoted_content': None, 'query': 'Iran', 'tweet_volume': 427932}, {'name': 'Myles Garrett', 'url': 'http://twitter.com/search?q=%22Myles+Garrett%22', 'promoted_content': None, 'query': '%22Myles+Garrett%22', 'tweet_volume': None}, {'name': 'Ben Shapiro', 'url': 'http://twitter.com/search?q=%22Ben+Shapiro%22', 'promoted_content': None, 'query': '%22Ben+Shapiro%22', 'tweet_volume': 63854}, {'name': 'Rudolph', 'url': 'http://twitter.com/search?q=Rudolph', 'promoted_content': None, 'query': 'Rudolph', 'tweet_volume': 37557}, {'name': 'Saudi Arabia', 'url': 'http://twitter.com/search?q=%22Saudi+Arabia%22', 'promoted_content': None, 'query': '%22Saudi+Arabia%22', 'tweet_volume': 323180}, {'name': 'Big Ben', 'url': 'http://twitter.com/search?q=%22Big+Ben%22', 'promoted_content': None, 'query': '%22Big+Ben%22', 'tweet_volume': 34085}, {'name': 'Odell', 'url': 'http://twitter.com/search?q=Odell', 'promoted_content': None, 'query': 'Odell', 'tweet_volume': 62489}, {'name': 'Steelers', 'url': 'http://twitter.com/search?q=Steelers', 'promoted_content': None, 'query': 'Steelers', 'tweet_volume': 148592}, {'name': 'The Cars', 'url': 'http://twitter.com/search?q=%22The+Cars%22', 'promoted_content': None, 'query': '%22The+Cars%22', 'tweet_volume': 38407}, {'name': '#TuesdayMorning', 'url': 'http://twitter.com/search?q=%23TuesdayMorning', 'promoted_content': None, 'query': '%23TuesdayMorning', 'tweet_volume': None}, {'name': '#howtobeaboss', 'url': 'http://twitter.com/search?q=%23howtobeaboss', 'promoted_content': None, 'query': '%23howtobeaboss', 'tweet_volume': None}, {'name': '#MillennialRetirementPlans', 'url': 'http://twitter.com/search?q=%23MillennialRetirementPlans', 'promoted_content': None, 'query': '%23MillennialRetirementPlans', 'tweet_volume': None}, {'name': '#IBuiltASecurityFenceBecause', 'url': 'http://twitter.com/search?q=%23IBuiltASecurityFenceBecause', 'promoted_content': None, 'query': '%23IBuiltASecurityFenceBecause', 'tweet_volume': None}, {'name': '#HappyBdayPMModi', 'url': 'http://twitter.com/search?q=%23HappyBdayPMModi', 'promoted_content': None, 'query': '%23HappyBdayPMModi', 'tweet_volume': 159664}, {'name': '#tellem131', 'url': 'http://twitter.com/search?q=%23tellem131', 'promoted_content': None, 'query': '%23tellem131', 'tweet_volume': 100888}, {'name': '#strangefestivalthemes', 'url': 'http://twitter.com/search?q=%23strangefestivalthemes', 'promoted_content': None, 'query': '%23strangefestivalthemes', 'tweet_volume': None}, {'name': '#ipres2019', 'url': 'http://twitter.com/search?q=%23ipres2019', 'promoted_content': None, 'query': '%23ipres2019', 'tweet_volume': None}, {'name': '#DLRCastLife', 'url': 'http://twitter.com/search?q=%23DLRCastLife', 'promoted_content': None, 'query': '%23DLRCastLife', 'tweet_volume': None}, {'name': '#SomebodyNew', 'url': 'http://twitter.com/search?q=%23SomebodyNew', 'promoted_content': None, 'query': '%23SomebodyNew', 'tweet_volume': 62731}, {'name': '#recsys2019', 'url': 'http://twitter.com/search?q=%23recsys2019', 'promoted_content': None, 'query': '%23recsys2019', 'tweet_volume': None}, {'name': '#WorldPatientSafetyDay', 'url': 'http://twitter.com/search?q=%23WorldPatientSafetyDay', 'promoted_content': None, 'query': '%23WorldPatientSafetyDay', 'tweet_volume': None}, {'name': '#hauslabs', 'url': 'http://twitter.com/search?q=%23hauslabs', 'promoted_content': None, 'query': '%23hauslabs', 'tweet_volume': None}, {'name': '#RutoMasterOfDivision', 'url': 'http://twitter.com/search?q=%23RutoMasterOfDivision', 'promoted_content': None, 'query': '%23RutoMasterOfDivision', 'tweet_volume': None}, {'name': '#bfc530', 'url': 'http://twitter.com/search?q=%23bfc530', 'promoted_content': None, 'query': '%23bfc530', 'tweet_volume': None}, {'name': '#beatNTDs', 'url': 'http://twitter.com/search?q=%23beatNTDs', 'promoted_content': None, 'query': '%23beatNTDs', 'tweet_volume': None}, {'name': '#carnivorous', 'url': 'http://twitter.com/search?q=%23carnivorous', 'promoted_content': None, 'query': '%23carnivorous', 'tweet_volume': None}, {'name': '#HappinessBeginsTourStPaul', 'url': 'http://twitter.com/search?q=%23HappinessBeginsTourStPaul', 'promoted_content': None, 'query': '%23HappinessBeginsTourStPaul', 'tweet_volume': None}, {'name': '#monsoon', 'url': 'http://twitter.com/search?q=%23monsoon', 'promoted_content': None, 'query': '%23monsoon', 'tweet_volume': None}, {'name': '#HausLaboratories', 'url': 'http://twitter.com/search?q=%23HausLaboratories', 'promoted_content': None, 'query': '%23HausLaboratories', 'tweet_volume': None}, {'name': '#IsaPaWithFeelingsAmainezing', 'url': 'http://twitter.com/search?q=%23IsaPaWithFeelingsAmainezing', 'promoted_content': None, 'query': '%23IsaPaWithFeelingsAmainezing', 'tweet_volume': 83751}, {'name': '#DWTSPremiere', 'url': 'http://twitter.com/search?q=%23DWTSPremiere', 'promoted_content': None, 'query': '%23DWTSPremiere', 'tweet_volume': None}, {'name': '#CLEvsNYJ', 'url': 'http://twitter.com/search?q=%23CLEvsNYJ', 'promoted_content': None, 'query': '%23CLEvsNYJ', 'tweet_volume': 40726}, {'name': '#PleaseAWomanIn5Words', 'url': 'http://twitter.com/search?q=%23PleaseAWomanIn5Words', 'promoted_content': None, 'query': '%23PleaseAWomanIn5Words', 'tweet_volume': 52897}, {'name': '#MakingTheGift', 'url': 'http://twitter.com/search?q=%23MakingTheGift', 'promoted_content': None, 'query': '%23MakingTheGift', 'tweet_volume': 104384}, {'name': '#MondayMotivation', 'url': 'http://twitter.com/search?q=%23MondayMotivation', 'promoted_content': None, 'query': '%23MondayMotivation', 'tweet_volume': 160178}, {'name': '#Browns', 'url': 'http://twitter.com/search?q=%23Browns', 'promoted_content': None, 'query': '%23Browns', 'tweet_volume': 28486}], 'as_of': '2019-09-17T09:37:18Z', 'created_at': '2019-09-17T09:34:15Z', 'locations': [{'name': 'United States', 'woeid': 23424977}]}]\n"
     ]
    }
   ],
   "source": [
    "# The Yahoo! Where On Earth ID for the entire world is 1.\n",
    "# See https://dev.twitter.com/docs/api/1.1/get/trends/place and\n",
    "# http://developer.yahoo.com/geo/geoplanet/\n",
    "\n",
    "WORLD_WOE_ID = 1\n",
    "US_WOE_ID = 23424977\n",
    "\n",
    "# Prefix ID with the underscore for query string parameterization.\n",
    "# Without the underscore, the twitter package appends the ID value\n",
    "# to the URL itself as a special case keyword argument.\n",
    "\n",
    "world_trends = twitter_api.trends.place(_id=WORLD_WOE_ID)\n",
    "us_trends = twitter_api.trends.place(_id=US_WOE_ID)\n",
    "\n",
    "print(world_trends)\n",
    "print()\n",
    "print(us_trends)"
   ]
  },
  {
   "cell_type": "code",
   "execution_count": 33,
   "metadata": {},
   "outputs": [
    {
     "name": "stdout",
     "output_type": "stream",
     "text": [
      "#AlwaysWithJK\n",
      "#BienvenidaSwitchLite\n",
      "#1JutaRameinTwitter\n",
      "#あなたの体調不良の原因上位5つ\n",
      "#AdnanMenderes\n",
      "ドゥムジ\n",
      "安定の5等\n",
      "シドゥリさん\n",
      "観艦式\n",
      "보증금\n",
      "고시원\n",
      "全るーみっくアニメ大投票\n",
      "懲役8年\n",
      "非リア充\n",
      "청년주택\n",
      "#HappyBdayPMModi\n",
      "#TuesdayThoughts\n",
      "#MHWアイスボーン狩猟解禁\n",
      "#الهلال_الاتحاد_دوري_اسيا\n",
      "#HazıraKonucuCHP\n",
      "#500LeRiaHai\n",
      "#あなたの声のランクは\n",
      "#كفايه_بقي_ياسيسيي\n",
      "#TellEm131\n",
      "#Renzi\n",
      "#salı\n",
      "#WorldPatientSafetyDay\n",
      "#AnnelerDiyarbakırda\n",
      "#KuralHatasiVarTff\n",
      "#SupremeCourtFacts\n",
      "#ChampionsLeague\n",
      "#صباح_الثلاثاء\n",
      "#EmperorOfPollsTHALAFans\n",
      "#ความห่วงใยจากแดนไกล\n",
      "#ParalarNerede\n",
      "#曲名の一部をもやしにすると弱い\n",
      "#人に言うと引かれちゃう事\n",
      "#الاسيويه_صعبه_قويه\n",
      "#ประยุทธ์อยู่ไหน\n",
      "#بوبيان_كل_ثلاثاء\n",
      "#prinsjesdag2019\n",
      "#17Settembre\n",
      "#SomebodyNew\n",
      "#DünyaküfürGünü\n",
      "#MiTV\n",
      "#HBDPERIYAR141\n",
      "#JusticeForNimrita\n",
      "#TRINITYDEBUT\n",
      "#MOONCHILDCHALLENGE\n",
      "#RiveraAR\n"
     ]
    }
   ],
   "source": [
    "for trend in world_trends[0]['trends']:\n",
    "    print(trend['name'])"
   ]
  },
  {
   "cell_type": "code",
   "execution_count": 34,
   "metadata": {},
   "outputs": [
    {
     "name": "stdout",
     "output_type": "stream",
     "text": [
      "#AlwaysWithJK\n",
      "#tuesdaythoughts\n",
      "#BiWeek\n",
      "#StrangeThingsParentsSay\n",
      "#TMobileTuesdays\n",
      "Too Many Zooz\n",
      "Steve Cortes\n",
      "Diekman\n",
      "High Court\n",
      "SIFAS\n",
      "bring the soul\n",
      "Ramsey\n",
      "Jets\n",
      "Kavanaugh\n",
      "Iran\n",
      "Myles Garrett\n",
      "Ben Shapiro\n",
      "Rudolph\n",
      "Saudi Arabia\n",
      "Big Ben\n",
      "Odell\n",
      "Steelers\n",
      "The Cars\n",
      "#TuesdayMorning\n",
      "#howtobeaboss\n",
      "#MillennialRetirementPlans\n",
      "#IBuiltASecurityFenceBecause\n",
      "#HappyBdayPMModi\n",
      "#tellem131\n",
      "#strangefestivalthemes\n",
      "#ipres2019\n",
      "#DLRCastLife\n",
      "#SomebodyNew\n",
      "#recsys2019\n",
      "#WorldPatientSafetyDay\n",
      "#hauslabs\n",
      "#RutoMasterOfDivision\n",
      "#bfc530\n",
      "#beatNTDs\n",
      "#carnivorous\n",
      "#HappinessBeginsTourStPaul\n",
      "#monsoon\n",
      "#HausLaboratories\n",
      "#IsaPaWithFeelingsAmainezing\n",
      "#DWTSPremiere\n",
      "#CLEvsNYJ\n",
      "#PleaseAWomanIn5Words\n",
      "#MakingTheGift\n",
      "#MondayMotivation\n",
      "#Browns\n"
     ]
    }
   ],
   "source": [
    "for trend in us_trends[0]['trends']:\n",
    "    print(trend['name'])"
   ]
  },
  {
   "cell_type": "code",
   "execution_count": 35,
   "metadata": {},
   "outputs": [
    {
     "name": "stdout",
     "output_type": "stream",
     "text": [
      "{'#HappyBdayPMModi', '#SomebodyNew', '#WorldPatientSafetyDay', '#AlwaysWithJK'}\n"
     ]
    }
   ],
   "source": [
    "world_trends_set = set([trend['name'] \n",
    "                        for trend in world_trends[0]['trends']])\n",
    "\n",
    "us_trends_set = set([trend['name'] \n",
    "                     for trend in us_trends[0]['trends']]) \n",
    "\n",
    "common_trends = world_trends_set.intersection(us_trends_set)\n",
    "\n",
    "print(common_trends)"
   ]
  },
  {
   "cell_type": "markdown",
   "metadata": {},
   "source": [
    "## Anatomy of a Tweet"
   ]
  },
  {
   "cell_type": "code",
   "execution_count": 42,
   "metadata": {},
   "outputs": [
    {
     "name": "stdout",
     "output_type": "stream",
     "text": [
      "Length of statuses 100\n",
      "Length of statuses 200\n",
      "Length of statuses 300\n",
      "Length of statuses 393\n",
      "Length of statuses 490\n",
      "{\n",
      " \"created_at\": \"Tue Sep 17 10:44:21 +0000 2019\",\n",
      " \"id\": 1173910558204149761,\n",
      " \"id_str\": \"1173910558204149761\",\n",
      " \"text\": \"If you are looking for a blockchain programmer you can write to me I can do coding for billing systems with cryptoc\\u2026 https://t.co/0CvxMKRyR3\",\n",
      " \"truncated\": true,\n",
      " \"entities\": {\n",
      "  \"hashtags\": [],\n",
      "  \"symbols\": [],\n",
      "  \"user_mentions\": [],\n",
      "  \"urls\": [\n",
      "   {\n",
      "    \"url\": \"https://t.co/0CvxMKRyR3\",\n",
      "    \"expanded_url\": \"https://twitter.com/i/web/status/1173910558204149761\",\n",
      "    \"display_url\": \"twitter.com/i/web/status/1\\u2026\",\n",
      "    \"indices\": [\n",
      "     117,\n",
      "     140\n",
      "    ]\n",
      "   }\n",
      "  ]\n",
      " },\n",
      " \"metadata\": {\n",
      "  \"iso_language_code\": \"en\",\n",
      "  \"result_type\": \"recent\"\n",
      " },\n",
      " \"source\": \"<a href=\\\"http://twitter.com/download/iphone\\\" rel=\\\"nofollow\\\">Twitter for iPhone</a>\",\n",
      " \"in_reply_to_status_id\": null,\n",
      " \"in_reply_to_status_id_str\": null,\n",
      " \"in_reply_to_user_id\": null,\n",
      " \"in_reply_to_user_id_str\": null,\n",
      " \"in_reply_to_screen_name\": null,\n",
      " \"user\": {\n",
      "  \"id\": 946875532104355840,\n",
      "  \"id_str\": \"946875532104355840\",\n",
      "  \"name\": \"Erdem \\u00d6zt\\u00fcrk\",\n",
      "  \"screen_name\": \"xerdemozturkx\",\n",
      "  \"location\": \"\",\n",
      "  \"description\": \"(PHP - C# - Blockchain Developer)\",\n",
      "  \"url\": \"https://t.co/kOfJPksIK5\",\n",
      "  \"entities\": {\n",
      "   \"url\": {\n",
      "    \"urls\": [\n",
      "     {\n",
      "      \"url\": \"https://t.co/kOfJPksIK5\",\n",
      "      \"expanded_url\": \"http://erdemozturk.cf\",\n",
      "      \"display_url\": \"erdemozturk.cf\",\n",
      "      \"indices\": [\n",
      "       0,\n",
      "       23\n",
      "      ]\n",
      "     }\n",
      "    ]\n",
      "   },\n",
      "   \"description\": {\n",
      "    \"urls\": []\n",
      "   }\n",
      "  },\n",
      "  \"protected\": false,\n",
      "  \"followers_count\": 38,\n",
      "  \"friends_count\": 68,\n",
      "  \"listed_count\": 0,\n",
      "  \"created_at\": \"Fri Dec 29 22:48:13 +0000 2017\",\n",
      "  \"favourites_count\": 189,\n",
      "  \"utc_offset\": null,\n",
      "  \"time_zone\": null,\n",
      "  \"geo_enabled\": false,\n",
      "  \"verified\": false,\n",
      "  \"statuses_count\": 96,\n",
      "  \"lang\": null,\n",
      "  \"contributors_enabled\": false,\n",
      "  \"is_translator\": false,\n",
      "  \"is_translation_enabled\": false,\n",
      "  \"profile_background_color\": \"F5F8FA\",\n",
      "  \"profile_background_image_url\": null,\n",
      "  \"profile_background_image_url_https\": null,\n",
      "  \"profile_background_tile\": false,\n",
      "  \"profile_image_url\": \"http://pbs.twimg.com/profile_images/946876389449494529/LydKBW6x_normal.jpg\",\n",
      "  \"profile_image_url_https\": \"https://pbs.twimg.com/profile_images/946876389449494529/LydKBW6x_normal.jpg\",\n",
      "  \"profile_link_color\": \"1DA1F2\",\n",
      "  \"profile_sidebar_border_color\": \"C0DEED\",\n",
      "  \"profile_sidebar_fill_color\": \"DDEEF6\",\n",
      "  \"profile_text_color\": \"333333\",\n",
      "  \"profile_use_background_image\": true,\n",
      "  \"has_extended_profile\": true,\n",
      "  \"default_profile\": true,\n",
      "  \"default_profile_image\": false,\n",
      "  \"following\": false,\n",
      "  \"follow_request_sent\": false,\n",
      "  \"notifications\": false,\n",
      "  \"translator_type\": \"none\"\n",
      " },\n",
      " \"geo\": null,\n",
      " \"coordinates\": null,\n",
      " \"place\": null,\n",
      " \"contributors\": null,\n",
      " \"is_quote_status\": false,\n",
      " \"retweet_count\": 0,\n",
      " \"favorite_count\": 0,\n",
      " \"favorited\": false,\n",
      " \"retweeted\": false,\n",
      " \"lang\": \"en\"\n",
      "}\n"
     ]
    }
   ],
   "source": [
    "import json\n",
    "\n",
    "# Set this variable to a trending topic, \n",
    "# or anything else for that matter. The example query below\n",
    "# was a trending topic when this content was being developed\n",
    "# and is used throughout the remainder of this chapter.\n",
    "\n",
    "q = 'bitcoin' \n",
    "\n",
    "count = 100\n",
    "\n",
    "# Import unquote to prevent url encoding errors in next_results\n",
    "from urllib.parse import unquote\n",
    "\n",
    "# See https://dev.twitter.com/rest/reference/get/search/tweets\n",
    "\n",
    "search_results = twitter_api.search.tweets(q=q, count=count)\n",
    "\n",
    "statuses = search_results['statuses']\n",
    "\n",
    "\n",
    "# Iterate through 5 more batches of results by following the cursor\n",
    "for _ in range(5):\n",
    "    print('Length of statuses', len(statuses))\n",
    "    try:\n",
    "        next_results = search_results['search_metadata']['next_results']\n",
    "    except KeyError as e: # No more results when next_results doesn't exist\n",
    "        break\n",
    "        \n",
    "    # Create a dictionary from next_results, which has the following form:\n",
    "    # ?max_id=847960489447628799&q=%23RIPSelena&count=100&include_entities=1\n",
    "    kwargs = dict([ kv.split('=') for kv in unquote(next_results[1:]).split(\"&\") ])\n",
    "    \n",
    "    search_results = twitter_api.search.tweets(**kwargs)\n",
    "    statuses += search_results['statuses']\n",
    "\n",
    "# Show one sample search result by slicing the list...\n",
    "print(json.dumps(statuses[0], indent=1))"
   ]
  },
  {
   "cell_type": "code",
   "execution_count": 43,
   "metadata": {},
   "outputs": [
    {
     "name": "stdout",
     "output_type": "stream",
     "text": [
      "\n",
      "If you are looking for a blockchain programmer you can write to me I can do coding for billing systems with cryptoc… https://t.co/0CvxMKRyR3\n",
      "Favorites:  0\n",
      "Retweets:  0\n",
      "\n",
      "#Bitcoin Price (#BTC) At Clear Risk of Further Declines: - Bitcoin price failed to hold the key $10… https://t.co/xHSx8oAySB #Blockchain\n",
      "Favorites:  0\n",
      "Retweets:  0\n",
      "\n",
      "Crypto Beadles Is BULLISH on Bitcoin Cash! Full Interview Tron Event! https://t.co/GCbQfPi8Cn https://t.co/biPEEDMy1B\n",
      "Favorites:  0\n",
      "Retweets:  0\n",
      "\n",
      "compren bitcoin o dai si no quieren la volatilidad. esta gente no entiende una verga de nada. https://t.co/pbi8CTSJHs\n",
      "Favorites:  0\n",
      "Retweets:  0\n",
      "\n",
      "ビットコイン先物取引始まる！Bakktやバイナンスに続きhttps://t.co/Aum9jwQ8Piでもサービス開始か？ https://t.co/sL8y07utQW https://t.co/DNpAVIDBnk\n",
      "Favorites:  0\n",
      "Retweets:  0\n",
      "\n",
      "Please fund my new #bitcoin #LightningNetwork wallet from your #faucet so I can play EscapeQR! https://t.co/aIEmHK8rlA\n",
      "Favorites:  0\n",
      "Retweets:  0\n",
      "\n",
      "RT @MatiGreenspan: Bitcoin dominance is now comparable to where it was before there was even a developed market for altcoins.\n",
      "\n",
      "Hard to see…\n",
      "Favorites:  0\n",
      "Retweets:  14\n",
      "\n",
      "RT @alistairmilne: Should I give one of these away?\n",
      "RT = yes\n",
      "Like = yes\n",
      "Both = hell yes\n",
      "#bitcoin https://t.co/PDoV1evD5P\n",
      "Favorites:  0\n",
      "Retweets:  253\n",
      "\n",
      "RT @OrionixToken: Today's rules don't have to be tomorrow's shackles. Liberate the potential of ideas with us. The blockchain was an idea.…\n",
      "Favorites:  0\n",
      "Retweets:  188\n",
      "\n",
      "RT @CengizH79163104: CENGİZ HAN ASLA KAYBETMEZ\n",
      "#STRES Yok #KAR var\n",
      "KAR            : 38.629 USD\n",
      "SERMAYE  : 60.000 USD\n",
      "SÜRE          : 5 HAFT…\n",
      "Favorites:  0\n",
      "Retweets:  2\n"
     ]
    }
   ],
   "source": [
    "for i in range(10):\n",
    "    print()\n",
    "    print(statuses[i]['text'])\n",
    "    print('Favorites: ', statuses[i]['favorite_count'])\n",
    "    print('Retweets: ', statuses[i]['retweet_count'])"
   ]
  },
  {
   "cell_type": "markdown",
   "metadata": {},
   "source": [
    "## Extracting text, screen names, and hashtags from tweets"
   ]
  },
  {
   "cell_type": "code",
   "execution_count": 52,
   "metadata": {},
   "outputs": [
    {
     "name": "stdout",
     "output_type": "stream",
     "text": [
      "[\n",
      " \"If you are looking for a blockchain programmer you can write to me I can do coding for billing systems with cryptoc\\u2026 https://t.co/0CvxMKRyR3\",\n",
      " \"#Bitcoin Price (#BTC) At Clear Risk of Further Declines: - Bitcoin price failed to hold the key $10\\u2026 https://t.co/xHSx8oAySB #Blockchain\",\n",
      " \"Crypto Beadles Is BULLISH on Bitcoin Cash! Full Interview Tron\\u00a0Event! https://t.co/GCbQfPi8Cn https://t.co/biPEEDMy1B\",\n",
      " \"compren bitcoin o dai si no quieren la volatilidad. esta gente no entiende una verga de nada. https://t.co/pbi8CTSJHs\",\n",
      " \"\\u30d3\\u30c3\\u30c8\\u30b3\\u30a4\\u30f3\\u5148\\u7269\\u53d6\\u5f15\\u59cb\\u307e\\u308b\\uff01Bakkt\\u3084\\u30d0\\u30a4\\u30ca\\u30f3\\u30b9\\u306b\\u7d9a\\u304dhttps://t.co/Aum9jwQ8Pi\\u3067\\u3082\\u30b5\\u30fc\\u30d3\\u30b9\\u958b\\u59cb\\u304b\\uff1f https://t.co/sL8y07utQW https://t.co/DNpAVIDBnk\"\n",
      "]\n",
      "[\n",
      " \"MatiGreenspan\",\n",
      " \"alistairmilne\",\n",
      " \"OrionixToken\",\n",
      " \"CengizH79163104\",\n",
      " \"Street5Wall\"\n",
      "]\n",
      "[\n",
      " \"Bitcoin\",\n",
      " \"BTC\",\n",
      " \"Blockchain\",\n",
      " \"bitcoin\",\n",
      " \"LightningNetwork\"\n",
      "]\n",
      "[\n",
      " \"If\",\n",
      " \"you\",\n",
      " \"are\",\n",
      " \"looking\",\n",
      " \"for\"\n",
      "]\n"
     ]
    }
   ],
   "source": [
    "status_texts = [ status['text'] \n",
    "                 for status in statuses ]\n",
    "\n",
    "screen_names = [ user_mention['screen_name'] \n",
    "                 for status in statuses\n",
    "                     for user_mention in status['entities']['user_mentions'] ]\n",
    "\n",
    "hashtags = [ hashtag['text'] \n",
    "             for status in statuses\n",
    "                 for hashtag in status['entities']['hashtags'] ]\n",
    "\n",
    "# Compute a collection of all words from all tweets\n",
    "words = [ w \n",
    "          for t in status_texts \n",
    "              for w in t.split() ]\n",
    "\n",
    "# Explore the first 5 items for each...\n",
    "\n",
    "print(json.dumps(status_texts[0:5], indent=1))\n",
    "print(json.dumps(screen_names[0:5], indent=1) )\n",
    "print(json.dumps(hashtags[0:5], indent=1))\n",
    "print(json.dumps(words[0:5], indent=1))"
   ]
  },
  {
   "cell_type": "markdown",
   "metadata": {},
   "source": [
    "## Creating a basic frequency distribution from the words in tweets"
   ]
  },
  {
   "cell_type": "code",
   "execution_count": 53,
   "metadata": {},
   "outputs": [
    {
     "name": "stdout",
     "output_type": "stream",
     "text": [
      "[('RT', 232), ('the', 189), ('Bitcoin', 179), ('-', 133), ('of', 122), ('to', 103), ('in', 102), ('is', 100), ('a', 91), ('for', 70)]\n",
      "\n",
      "[('CincinnatusBTC', 13), ('freebitcoinsy', 13), ('Cointelegraph', 11), ('1jl4com', 11), ('Crypto____World', 8), ('YarKafanchan', 7), ('Bakkt', 7), ('malekalby', 6), ('sumawun', 6), ('JanetNestor', 6)]\n",
      "\n",
      "[('bitcoin', 58), ('Bitcoin', 57), ('BTC', 22), ('blockchain', 20), ('crypto', 20), ('cryptocurrency', 16), ('Crypto', 13), ('Blockchain', 12), ('仮想通貨', 10), ('Ethereum', 9)]\n",
      "\n"
     ]
    }
   ],
   "source": [
    "from collections import Counter\n",
    "\n",
    "for item in [words, screen_names, hashtags]:\n",
    "    c = Counter(item)\n",
    "    print(c.most_common()[:10]) # top 10\n",
    "    print()"
   ]
  },
  {
   "cell_type": "markdown",
   "metadata": {},
   "source": [
    "## Using prettytable to display tuples in a nice tabular format"
   ]
  },
  {
   "cell_type": "code",
   "execution_count": 54,
   "metadata": {},
   "outputs": [
    {
     "name": "stdout",
     "output_type": "stream",
     "text": [
      "+----------+-------+\n",
      "| Word     | Count |\n",
      "+----------+-------+\n",
      "| RT       |   232 |\n",
      "| the      |   189 |\n",
      "| Bitcoin  |   179 |\n",
      "| -        |   133 |\n",
      "| of       |   122 |\n",
      "| to       |   103 |\n",
      "| in       |   102 |\n",
      "| is       |   100 |\n",
      "| a        |    91 |\n",
      "| for      |    70 |\n",
      "| and      |    58 |\n",
      "| The      |    55 |\n",
      "| #bitcoin |    53 |\n",
      "| #Bitcoin |    48 |\n",
      "| on       |    46 |\n",
      "| with     |    43 |\n",
      "| you      |    42 |\n",
      "| bitcoin  |    42 |\n",
      "| I        |    40 |\n",
      "| de       |    31 |\n",
      "+----------+-------+\n",
      "+-----------------+-------+\n",
      "| Screen Name     | Count |\n",
      "+-----------------+-------+\n",
      "| CincinnatusBTC  |    13 |\n",
      "| freebitcoinsy   |    13 |\n",
      "| Cointelegraph   |    11 |\n",
      "| 1jl4com         |    11 |\n",
      "| Crypto____World |     8 |\n",
      "| YarKafanchan    |     7 |\n",
      "| Bakkt           |     7 |\n",
      "| malekalby       |     6 |\n",
      "| sumawun         |     6 |\n",
      "| JanetNestor     |     6 |\n",
      "| Kugey           |     6 |\n",
      "| grazytgrazynatt |     6 |\n",
      "| wanderingstarz1 |     6 |\n",
      "| PapaPorter1     |     6 |\n",
      "| heroldbarton    |     6 |\n",
      "| BitcoinCom      |     5 |\n",
      "| heavy_metal_jp  |     5 |\n",
      "| Rhythmtrader    |     5 |\n",
      "| kiyotaka_1991   |     5 |\n",
      "| _____YO_____YO  |     5 |\n",
      "+-----------------+-------+\n",
      "+----------------+-------+\n",
      "| Hashtag        | Count |\n",
      "+----------------+-------+\n",
      "| bitcoin        |    58 |\n",
      "| Bitcoin        |    57 |\n",
      "| BTC            |    22 |\n",
      "| blockchain     |    20 |\n",
      "| crypto         |    20 |\n",
      "| cryptocurrency |    16 |\n",
      "| Crypto         |    13 |\n",
      "| Blockchain     |    12 |\n",
      "| 仮想通貨       |    10 |\n",
      "| Ethereum       |     9 |\n",
      "| ビットコイン   |     9 |\n",
      "| btc            |     8 |\n",
      "| ETH            |     7 |\n",
      "| trading        |     6 |\n",
      "| Giveaway       |     6 |\n",
      "| eth            |     6 |\n",
      "| ethereum       |     6 |\n",
      "| XRP            |     5 |\n",
      "| BitcoinCash    |     5 |\n",
      "| airdrop        |     5 |\n",
      "+----------------+-------+\n"
     ]
    }
   ],
   "source": [
    "from prettytable import PrettyTable\n",
    "\n",
    "for label, data in (('Word', words), \n",
    "                    ('Screen Name', screen_names), \n",
    "                    ('Hashtag', hashtags)):\n",
    "    pt = PrettyTable(field_names=[label, 'Count']) \n",
    "    c = Counter(data)\n",
    "    [ pt.add_row(kv) for kv in c.most_common()[:20] ]\n",
    "    pt.align[label], pt.align['Count'] = 'l', 'r' # Set column alignment\n",
    "    print(pt)"
   ]
  },
  {
   "cell_type": "markdown",
   "metadata": {},
   "source": [
    "## Calculating lexical diversity for tweets"
   ]
  },
  {
   "cell_type": "code",
   "execution_count": 55,
   "metadata": {},
   "outputs": [
    {
     "name": "stdout",
     "output_type": "stream",
     "text": [
      "0.4533390410958904\n",
      "0.5623678646934461\n",
      "0.4532488114104596\n",
      "15.837288135593221\n"
     ]
    }
   ],
   "source": [
    "# A function for computing lexical diversity\n",
    "def lexical_diversity(tokens):\n",
    "    return len(set(tokens))/len(tokens) \n",
    "\n",
    "# A function for computing the average number of words per tweet\n",
    "def average_words(statuses):\n",
    "    total_words = sum([ len(s.split()) for s in statuses ]) \n",
    "    return total_words/len(statuses)\n",
    "\n",
    "print(lexical_diversity(words))\n",
    "print(lexical_diversity(screen_names))\n",
    "print(lexical_diversity(hashtags))\n",
    "print(average_words(status_texts))"
   ]
  },
  {
   "cell_type": "markdown",
   "metadata": {},
   "source": [
    "## Finding the most popular retweets"
   ]
  },
  {
   "cell_type": "code",
   "execution_count": 49,
   "metadata": {},
   "outputs": [
    {
     "name": "stdout",
     "output_type": "stream",
     "text": [
      "+-------+---------------+---------------------+------------------------------------------------------------------------------------------------------+\n",
      "| Count | Screen Name   | Tweet ID            | Text                                                                                                 |\n",
      "+-------+---------------+---------------------+------------------------------------------------------------------------------------------------------+\n",
      "| 1005  | Bakkt         | 1173683919687966720 | RT @Bakkt: Only 7 days until the launch of the bitcoin futures contract                              |\n",
      "|       |               |                     |                                                                                                      |\n",
      "|       |               |                     | One step closer to delivering on our mission: Expanding access to…                                   |\n",
      "| 1005  | Bakkt         | 1173683919687966720 | RT @Bakkt: Only 7 days until the launch of the bitcoin futures contract                              |\n",
      "|       |               |                     |                                                                                                      |\n",
      "|       |               |                     | One step closer to delivering on our mission: Expanding access to…                                   |\n",
      "| 1005  | Bakkt         | 1173683919687966720 | RT @Bakkt: Only 7 days until the launch of the bitcoin futures contract                              |\n",
      "|       |               |                     |                                                                                                      |\n",
      "|       |               |                     | One step closer to delivering on our mission: Expanding access to…                                   |\n",
      "| 1004  | Bakkt         | 1173683919687966720 | RT @Bakkt: Only 7 days until the launch of the bitcoin futures contract                              |\n",
      "|       |               |                     |                                                                                                      |\n",
      "|       |               |                     | One step closer to delivering on our mission: Expanding access to…                                   |\n",
      "| 1004  | Bakkt         | 1173683919687966720 | RT @Bakkt: Only 7 days until the launch of the bitcoin futures contract                              |\n",
      "|       |               |                     |                                                                                                      |\n",
      "|       |               |                     | One step closer to delivering on our mission: Expanding access to…                                   |\n",
      "| 1004  | Bakkt         | 1173683919687966720 | RT @Bakkt: Only 7 days until the launch of the bitcoin futures contract                              |\n",
      "|       |               |                     |                                                                                                      |\n",
      "|       |               |                     | One step closer to delivering on our mission: Expanding access to…                                   |\n",
      "| 1004  | Bakkt         | 1173683919687966720 | RT @Bakkt: Only 7 days until the launch of the bitcoin futures contract                              |\n",
      "|       |               |                     |                                                                                                      |\n",
      "|       |               |                     | One step closer to delivering on our mission: Expanding access to…                                   |\n",
      "| 755   | Rhythmtrader  | 1173332624586268675 | RT @Rhythmtrader: Recent fines for 𝗷𝘂𝘀𝘁 the laundering of money:                                     |\n",
      "|       |               |                     |                                                                                                      |\n",
      "|       |               |                     | Wachovia - $160m                                                                                     |\n",
      "|       |               |                     | Deutsche Bank - $670m                                                                                |\n",
      "|       |               |                     | Bank of Australia - $700m                                                                            |\n",
      "|       |               |                     | ING - $9…                                                                                            |\n",
      "| 720   | farooqkperogi | 1173565341982765057 | RT @farooqkperogi: Kidnappings in the Heart of Abuja-THREAD                                          |\n",
      "|       |               |                     |                                                                                                      |\n",
      "|       |               |                     | The abduction and release of Dr. Umar Ardo's daughter after a $15,000 ransom p…                      |\n",
      "| 720   | farooqkperogi | 1173565341982765057 | RT @farooqkperogi: Kidnappings in the Heart of Abuja-THREAD                                          |\n",
      "|       |               |                     |                                                                                                      |\n",
      "|       |               |                     | The abduction and release of Dr. Umar Ardo's daughter after a $15,000 ransom p…                      |\n",
      "| 564   | keevowallet   | 1112762363822792717 | RT @keevowallet: Yep, it's here. The most secure hardware wallet ever. 🔑https://t.co/NTzyMhK2Nk      |\n",
      "|       |               |                     | #cryptocurrency #bitcoin #ethereum #ripple                                                           |\n",
      "| 419   | Rhythmtrader  | 1173683892181774337 | RT @Rhythmtrader: U.S prosecutors just called JPMorgan’s precious metals trading desk a criminal     |\n",
      "|       |               |                     | enterprise after charging mutiple executiv…                                                          |\n",
      "| 370   | cryptochaseio | 1173386377771331584 | RT @cryptochaseio: 🎁🎉$500 GIVEAWAY🎉🎁                                                                 |\n",
      "|       |               |                     |                                                                                                      |\n",
      "|       |               |                     | 5 Followers will win $100 $BTC each                                                                  |\n",
      "|       |               |                     |                                                                                                      |\n",
      "|       |               |                     | To enter, do this:                                                                                   |\n",
      "|       |               |                     | 👍 Like, Retweet, Follow                                                                              |\n",
      "|       |               |                     | 👨‍💻 Open a trading ac…                                                                               |\n",
      "| 321   | Rich2Money    | 1173275935489048576 | RT @Rich2Money: I will give $8000 or a Bitcoin to someone random who retweets this in the next 72    |\n",
      "|       |               |                     | hours (must be following me so I can dm y…                                                           |\n",
      "| 316   | YarKafanchan  | 1173721752645578757 | RT @YarKafanchan: The Bitcoin ransom kidnapper has been arrested.                                    |\n",
      "|       |               |                     | Kudos to the Nigerian police. https://t.co/RGD6AADCIt                                                |\n",
      "| 316   | YarKafanchan  | 1173721752645578757 | RT @YarKafanchan: The Bitcoin ransom kidnapper has been arrested.                                    |\n",
      "|       |               |                     | Kudos to the Nigerian police. https://t.co/RGD6AADCIt                                                |\n",
      "| 316   | YarKafanchan  | 1173721752645578757 | RT @YarKafanchan: The Bitcoin ransom kidnapper has been arrested.                                    |\n",
      "|       |               |                     | Kudos to the Nigerian police. https://t.co/RGD6AADCIt                                                |\n",
      "| 316   | YarKafanchan  | 1173721752645578757 | RT @YarKafanchan: The Bitcoin ransom kidnapper has been arrested.                                    |\n",
      "|       |               |                     | Kudos to the Nigerian police. https://t.co/RGD6AADCIt                                                |\n",
      "| 316   | YarKafanchan  | 1173721752645578757 | RT @YarKafanchan: The Bitcoin ransom kidnapper has been arrested.                                    |\n",
      "|       |               |                     | Kudos to the Nigerian police. https://t.co/RGD6AADCIt                                                |\n",
      "| 316   | YarKafanchan  | 1173721752645578757 | RT @YarKafanchan: The Bitcoin ransom kidnapper has been arrested.                                    |\n",
      "|       |               |                     | Kudos to the Nigerian police. https://t.co/RGD6AADCIt                                                |\n",
      "+-------+---------------+---------------------+------------------------------------------------------------------------------------------------------+\n"
     ]
    }
   ],
   "source": [
    "retweets = [\n",
    "            # Store out a tuple of these three values ...\n",
    "            (status['retweet_count'], \n",
    "             status['retweeted_status']['user']['screen_name'],\n",
    "             status['retweeted_status']['id'],\n",
    "             status['text']) \n",
    "            \n",
    "            # ... for each status ...\n",
    "            for status in statuses \n",
    "            \n",
    "            # ... so long as the status meets this condition.\n",
    "                if 'retweeted_status' in status.keys()\n",
    "           ]\n",
    "\n",
    "# Slice off the first 5 from the sorted results and display each item in the tuple\n",
    "\n",
    "pt = PrettyTable(field_names=['Count', 'Screen Name', 'Tweet ID', 'Text'])\n",
    "[ pt.add_row(row) for row in sorted(retweets, reverse=True)[:20] ]\n",
    "pt.max_width['Text'] = 100\n",
    "pt.align= 'l'\n",
    "print(pt)"
   ]
  },
  {
   "cell_type": "markdown",
   "metadata": {},
   "source": [
    "## Looking up users who have retweeted a status"
   ]
  },
  {
   "cell_type": "code",
   "execution_count": 57,
   "metadata": {},
   "outputs": [
    {
     "name": "stdout",
     "output_type": "stream",
     "text": [
      "['jarcola1', 'qcharsky98', 'JonCooke17', 'EmotionsCrypto', 'juliuschristoph', 'alterkahn', '4Bf109k', 'Nbarthelemy5', 'bitmanmj', 'petc08', 'vincenthees', 'Leone_Starz', 'Tommy_Lewis0', 'RpVishan', 'Aimer__10', 'mtjkenny92', 'owengwilliam', 'CeyhanDoruk', 'ArshadS63602692', 'CryptoRothbard']\n"
     ]
    }
   ],
   "source": [
    "# Get the original tweet id for a tweet from its retweeted_status node \n",
    "# and insert it here\n",
    "\n",
    "_retweets = twitter_api.statuses.retweets(id=1173683919687966720)\n",
    "print([r['user']['screen_name'] for r in _retweets])"
   ]
  },
  {
   "cell_type": "markdown",
   "metadata": {},
   "source": [
    "## Plotting frequencies of words"
   ]
  },
  {
   "cell_type": "code",
   "execution_count": 58,
   "metadata": {},
   "outputs": [
    {
     "data": {
      "text/plain": [
       "Text(0.5, 0, 'Word Rank')"
      ]
     },
     "execution_count": 58,
     "metadata": {},
     "output_type": "execute_result"
    },
    {
     "data": {
      "image/png": "[encoded data removed]",
      "text/plain": [
       "<Figure size 432x288 with 1 Axes>"
      ]
     },
     "metadata": {
      "needs_background": "light"
     },
     "output_type": "display_data"
    }
   ],
   "source": [
    "import matplotlib.pyplot as plt\n",
    "%matplotlib inline\n",
    "word_counts = sorted(Counter(words).values(), reverse=True)\n",
    "\n",
    "plt.loglog(word_counts)\n",
    "plt.ylabel(\"Freq\")\n",
    "plt.xlabel(\"Word Rank\")"
   ]
  },
  {
   "cell_type": "markdown",
   "metadata": {},
   "source": [
    "## Generating histograms of words, screen names, and hashtags"
   ]
  },
  {
   "cell_type": "code",
   "execution_count": 59,
   "metadata": {},
   "outputs": [
    {
     "data": {
      "image/png": "[encoded data removed]",
      "text/plain": [
       "<Figure size 432x288 with 1 Axes>"
      ]
     },
     "metadata": {
      "needs_background": "light"
     },
     "output_type": "display_data"
    },
    {
     "data": {
      "image/png": "[encoded data removed]",
      "text/plain": [
       "<Figure size 432x288 with 1 Axes>"
      ]
     },
     "metadata": {
      "needs_background": "light"
     },
     "output_type": "display_data"
    },
    {
     "data": {
      "image/png": "[encoded data removed]",
      "text/plain": [
       "<Figure size 432x288 with 1 Axes>"
      ]
     },
     "metadata": {
      "needs_background": "light"
     },
     "output_type": "display_data"
    },
    {
     "data": {
      "text/plain": [
       "<Figure size 432x288 with 0 Axes>"
      ]
     },
     "metadata": {},
     "output_type": "display_data"
    }
   ],
   "source": [
    "for label, data in (('Words', words), \n",
    "                    ('Screen Names', screen_names), \n",
    "                    ('Hashtags', hashtags)):\n",
    "\n",
    "    # Build a frequency map for each set of data\n",
    "    # and plot the values\n",
    "    c = Counter(data)\n",
    "    plt.hist(list(c.values()))\n",
    "    \n",
    "    # Add a title and y-label ...\n",
    "    plt.title(label)\n",
    "    plt.ylabel(\"Number of items in bin\")\n",
    "    plt.xlabel(\"Bins (number of times an item appeared)\")\n",
    "    \n",
    "    # ... and display as a new figure\n",
    "    plt.figure()"
   ]
  },
  {
   "cell_type": "markdown",
   "metadata": {},
   "source": [
    "## Generating a histogram of retweet counts"
   ]
  },
  {
   "cell_type": "code",
   "execution_count": 60,
   "metadata": {},
   "outputs": [
    {
     "data": {
      "text/plain": [
       "Text(0, 0.5, 'Number of tweets in bin')"
      ]
     },
     "execution_count": 60,
     "metadata": {},
     "output_type": "execute_result"
    },
    {
     "data": {
      "image/png": "[encoded data removed]",
      "text/plain": [
       "<Figure size 432x288 with 1 Axes>"
      ]
     },
     "metadata": {
      "needs_background": "light"
     },
     "output_type": "display_data"
    }
   ],
   "source": [
    "# Using underscores while unpacking values in\n",
    "# a tuple is idiomatic for discarding them\n",
    "\n",
    "counts = [count for count, _, _, _ in retweets]\n",
    "\n",
    "plt.hist(counts)\n",
    "plt.title('Retweets')\n",
    "plt.xlabel('Bins (number of times retweeted)')\n",
    "plt.ylabel('Number of tweets in bin')"
   ]
  },
  {
   "cell_type": "markdown",
   "metadata": {
    "collapsed": true
   },
   "source": [
    "## Sentiment Analysis"
   ]
  },
  {
   "cell_type": "code",
   "execution_count": 17,
   "metadata": {},
   "outputs": [
    {
     "name": "stderr",
     "output_type": "stream",
     "text": [
      "[nltk_data] Downloading package vader_lexicon to\n",
      "[nltk_data]     /home/mabramia/nltk_data...\n"
     ]
    }
   ],
   "source": [
    "# pip install nltk\n",
    "import nltk\n",
    "nltk.download('vader_lexicon')\n",
    "\n",
    "import numpy as np\n",
    "from nltk.sentiment.vader import SentimentIntensityAnalyzer"
   ]
  },
  {
   "cell_type": "code",
   "execution_count": 18,
   "metadata": {},
   "outputs": [],
   "source": [
    "twitter_stream = twitter.TwitterStream(auth=auth)\n",
    "iterator = twitter_stream.statuses.sample()"
   ]
  },
  {
   "cell_type": "code",
   "execution_count": 19,
   "metadata": {},
   "outputs": [],
   "source": [
    "tweets = []\n",
    "for tweet in iterator:\n",
    "    try:\n",
    "        if tweet['lang'] == 'en':\n",
    "            tweets.append(tweet)\n",
    "    except:\n",
    "        pass\n",
    "    if len(tweets) == 100:\n",
    "        break"
   ]
  },
  {
   "cell_type": "code",
   "execution_count": 20,
   "metadata": {},
   "outputs": [],
   "source": [
    "analyzer = SentimentIntensityAnalyzer()"
   ]
  },
  {
   "cell_type": "code",
   "execution_count": 21,
   "metadata": {},
   "outputs": [
    {
     "data": {
      "text/plain": [
       "{'neg': 0.0, 'neu': 1.0, 'pos': 0.0, 'compound': 0.0}"
      ]
     },
     "execution_count": 21,
     "metadata": {},
     "output_type": "execute_result"
    }
   ],
   "source": [
    "analyzer.polarity_scores('Hello')"
   ]
  },
  {
   "cell_type": "code",
   "execution_count": 22,
   "metadata": {},
   "outputs": [
    {
     "data": {
      "text/plain": [
       "{'neg': 0.0, 'neu': 0.534, 'pos': 0.466, 'compound': 0.5413}"
      ]
     },
     "execution_count": 22,
     "metadata": {},
     "output_type": "execute_result"
    }
   ],
   "source": [
    "analyzer.polarity_scores('I really enjoy this video series.')"
   ]
  },
  {
   "cell_type": "code",
   "execution_count": 23,
   "metadata": {},
   "outputs": [
    {
     "data": {
      "text/plain": [
       "{'neg': 0.0, 'neu': 0.486, 'pos': 0.514, 'compound': 0.64}"
      ]
     },
     "execution_count": 23,
     "metadata": {},
     "output_type": "execute_result"
    }
   ],
   "source": [
    "analyzer.polarity_scores('I REALLY enjoy this video series.')"
   ]
  },
  {
   "cell_type": "code",
   "execution_count": 24,
   "metadata": {},
   "outputs": [
    {
     "data": {
      "text/plain": [
       "{'neg': 0.0, 'neu': 0.439, 'pos': 0.561, 'compound': 0.7271}"
      ]
     },
     "execution_count": 24,
     "metadata": {},
     "output_type": "execute_result"
    }
   ],
   "source": [
    "analyzer.polarity_scores('I REALLY enjoy this video series!!!')"
   ]
  },
  {
   "cell_type": "code",
   "execution_count": 25,
   "metadata": {},
   "outputs": [
    {
     "data": {
      "text/plain": [
       "{'neg': 0.425, 'neu': 0.575, 'pos': 0.0, 'compound': -0.6627}"
      ]
     },
     "execution_count": 25,
     "metadata": {},
     "output_type": "execute_result"
    }
   ],
   "source": [
    "analyzer.polarity_scores('I REALLY did not enjoy this video series!!!')"
   ]
  },
  {
   "cell_type": "code",
   "execution_count": 27,
   "metadata": {},
   "outputs": [],
   "source": [
    "scores = np.zeros(len(tweets))\n",
    "\n",
    "for i, t in enumerate(tweets):\n",
    "    # Extract the text portion of the tweet\n",
    "    text = t['text']\n",
    "    \n",
    "    # Measure the polarity of the tweet\n",
    "    polarity = analyzer.polarity_scores(text)\n",
    "    \n",
    "    # Store the normalized, weighted composite score\n",
    "    scores[i] = polarity['compound']"
   ]
  },
  {
   "cell_type": "code",
   "execution_count": 28,
   "metadata": {},
   "outputs": [],
   "source": [
    "most_positive = np.argmax(scores)\n",
    "most_negative = np.argmin(scores)"
   ]
  },
  {
   "cell_type": "code",
   "execution_count": 29,
   "metadata": {},
   "outputs": [
    {
     "name": "stdout",
     "output_type": "stream",
     "text": [
      " 0.962 : \"RT @BTSUKUNITE: Jungkook amazing\n",
      "Jungkook vocal\n",
      "Jungkook wonderful\n",
      "Jungkook talented\n",
      "Jungkook golden\n",
      "Jungkook perfect\n",
      "\n",
      "Jungkook...We love y…\"\n"
     ]
    }
   ],
   "source": [
    "print('{0:6.3f} : \"{1}\"'.format(scores[most_positive], tweets[most_positive]['text']))"
   ]
  },
  {
   "cell_type": "code",
   "execution_count": 30,
   "metadata": {},
   "outputs": [
    {
     "name": "stdout",
     "output_type": "stream",
     "text": [
      "-0.868 : \"RT @AndycLufc: I have decided to break my silence on this matter, i am still shaking from this horrific assault, the sight of a high viz ja…\"\n"
     ]
    }
   ],
   "source": [
    "print('{0:6.3f} : \"{1}\"'.format(scores[most_negative], tweets[most_negative]['text']))"
   ]
  },
  {
   "cell_type": "code",
   "execution_count": null,
   "metadata": {},
   "outputs": [],
   "source": []
  }
 ],
 "metadata": {
  "kernelspec": {
   "display_name": "Python 3",
   "language": "python",
   "name": "python3"
  },
  "language_info": {
   "codemirror_mode": {
    "name": "ipython",
    "version": 3
   },
   "file_extension": ".py",
   "mimetype": "text/x-python",
   "name": "python",
   "nbconvert_exporter": "python",
   "pygments_lexer": "ipython3",
   "version": "3.6.8"
  }
 },
 "nbformat": 4,
 "nbformat_minor": 1
}
